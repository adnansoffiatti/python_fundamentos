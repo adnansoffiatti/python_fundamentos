{
  "nbformat": 4,
  "nbformat_minor": 0,
  "metadata": {
    "colab": {
      "provenance": [],
      "authorship_tag": "ABX9TyPvwHxauT/+4uq5r95Tn5Fp",
      "include_colab_link": true
    },
    "kernelspec": {
      "name": "python3",
      "display_name": "Python 3"
    },
    "language_info": {
      "name": "python"
    }
  },
  "cells": [
    {
      "cell_type": "markdown",
      "metadata": {
        "id": "view-in-github",
        "colab_type": "text"
      },
      "source": [
        "<a href=\"https://colab.research.google.com/github/adnansoffiatti/python_fundamentos/blob/main/Exercicios1.ipynb\" target=\"_parent\"><img src=\"https://colab.research.google.com/assets/colab-badge.svg\" alt=\"Open In Colab\"/></a>"
      ]
    },
    {
      "cell_type": "markdown",
      "source": [
        "# Variáveis, tipos de dados e estrutura condicionais"
      ],
      "metadata": {
        "id": "5B7GDAmtnxKU"
      }
    },
    {
      "cell_type": "markdown",
      "source": [
        "## Exercício 1\n",
        "\n",
        "Escreva um programa que mostre a mensagem 'Hello World!' na tela."
      ],
      "metadata": {
        "id": "ZAfyLVfjn49g"
      }
    },
    {
      "cell_type": "code",
      "execution_count": 1,
      "metadata": {
        "colab": {
          "base_uri": "https://localhost:8080/"
        },
        "id": "CyomMIfbno_O",
        "outputId": "fbfa28a3-3535-4090-c2eb-9daf2edf3e7d"
      },
      "outputs": [
        {
          "output_type": "stream",
          "name": "stdout",
          "text": [
            "Hello World!\n"
          ]
        }
      ],
      "source": [
        "print('Hello World!')"
      ]
    },
    {
      "cell_type": "markdown",
      "source": [
        "## Exercício 2\n",
        "\n",
        "Faça um programa que solicite um número do usuário e apresente a seguinte mensagem na tela:\n",
        "\n",
        "\"O número digitado foi [número]\"."
      ],
      "metadata": {
        "id": "X1ib9-tfoBme"
      }
    },
    {
      "cell_type": "code",
      "source": [
        "num1 = int(input('Digite um número: '))\n",
        "print(f'O número digito foi {num1}')"
      ],
      "metadata": {
        "colab": {
          "base_uri": "https://localhost:8080/"
        },
        "id": "KfKJw4ZOoBGJ",
        "outputId": "ac27f284-c993-4109-c587-2166abfe3b3d"
      },
      "execution_count": 2,
      "outputs": [
        {
          "output_type": "stream",
          "name": "stdout",
          "text": [
            "Digite um número: 17\n",
            "O número digito foi 17\n"
          ]
        }
      ]
    },
    {
      "cell_type": "markdown",
      "source": [
        "## Exercício 3\n",
        "\n",
        "Escreva um programa que solicite o nome e o sobrenome do usuário. Ao final o programa deverá apresentar o nome completo do usuário na tela."
      ],
      "metadata": {
        "id": "_Dlxozc0obyb"
      }
    },
    {
      "cell_type": "code",
      "source": [
        "nome = input('Digite seu primeiro nome: ').strip().title()\n",
        "sobrenome = input('Digite seu sobrenome: ').strip().title()\n",
        "print(f'{nome} {sobrenome}')"
      ],
      "metadata": {
        "colab": {
          "base_uri": "https://localhost:8080/"
        },
        "id": "MkKofrGnoTTx",
        "outputId": "0af9cd06-cdd6-456a-f7e3-523dbf8273c1"
      },
      "execution_count": 5,
      "outputs": [
        {
          "output_type": "stream",
          "name": "stdout",
          "text": [
            "Digite seu primeiro nome: Adnan\n",
            "Digite seu sobrenome: Santos\n",
            "Adnan Santos\n"
          ]
        }
      ]
    },
    {
      "cell_type": "markdown",
      "source": [
        "## Exercício 4\n",
        "\n",
        "Faça um programa que solicite três números inteiros do usuário e imprima a soma destes."
      ],
      "metadata": {
        "id": "-9zf5INApSYh"
      }
    },
    {
      "cell_type": "code",
      "source": [
        "num1 = int(input('Digite o primeiro número: '))\n",
        "num2 = int(input('Digite o segundo número: '))\n",
        "num3 = int(input('Digite o terceiro número: '))\n",
        "lista_num = [num1, num2, num3]\n",
        "print(sum(lista_num))"
      ],
      "metadata": {
        "colab": {
          "base_uri": "https://localhost:8080/"
        },
        "id": "bT75fcAhoyJp",
        "outputId": "8334e39b-b650-40ae-d43a-5c622dea39ba"
      },
      "execution_count": 7,
      "outputs": [
        {
          "output_type": "stream",
          "name": "stdout",
          "text": [
            "Digite o primeiro número: 10\n",
            "Digite o segundo número: 11\n",
            "Digite o terceiro número: 12\n",
            "33\n"
          ]
        }
      ]
    },
    {
      "cell_type": "markdown",
      "source": [
        "# Exercício 5\n",
        "\n",
        "Escreva um programa que solicite duas notas do usuário e apresente a média na tela da seguinte forma:\n",
        "\n",
        "\"A média das notas [nota1] e [nota2] é [média]\""
      ],
      "metadata": {
        "id": "B5q3ETTiqELH"
      }
    },
    {
      "cell_type": "code",
      "source": [
        "nota1 = float(input('Digite a primeira nota: '))\n",
        "nota2 = float(input('Digite a segunda nota: '))\n",
        "media = (nota1 + nota2) / 2\n",
        "print(f'A média das notas {nota1} e {nota2} é {media}')"
      ],
      "metadata": {
        "colab": {
          "base_uri": "https://localhost:8080/"
        },
        "id": "5a_E4AdEpltO",
        "outputId": "bf857760-747a-4537-ebd6-d6cd8bfa097c"
      },
      "execution_count": 8,
      "outputs": [
        {
          "output_type": "stream",
          "name": "stdout",
          "text": [
            "Digite a primeira nota: 10\n",
            "Digite a segunda nota: 8\n",
            "A média das notas 10.0 e 8.0 é 9.0\n"
          ]
        }
      ]
    },
    {
      "cell_type": "markdown",
      "source": [
        "## Exercício 6\n",
        "\n",
        "Faça um programa que calcule a raiz quadrada de um número. O usuário deve inserir um número e o programa deve mostrar na tela o resultado da raiz quadrada do número inserido."
      ],
      "metadata": {
        "id": "qpDshav7qyOi"
      }
    },
    {
      "cell_type": "code",
      "source": [
        "num = float(input('Digite um número: '))\n",
        "print(f'A raiz quadrada de {num} é {num**(1/2)}')"
      ],
      "metadata": {
        "colab": {
          "base_uri": "https://localhost:8080/"
        },
        "id": "G_mlMLbrqpek",
        "outputId": "5a5b80d2-96b2-47fc-fc93-418265efdca6"
      },
      "execution_count": 11,
      "outputs": [
        {
          "output_type": "stream",
          "name": "stdout",
          "text": [
            "Digite um número: 25\n",
            "A raiz quadrada de 25.0 é 5.0\n"
          ]
        }
      ]
    },
    {
      "cell_type": "markdown",
      "source": [
        "## Exercício 7\n",
        "\n",
        "Faça um programa que peça 5 números de ponto flutuante do usuário e apresente no final a média dos números digitados."
      ],
      "metadata": {
        "id": "rrW3xd_przWm"
      }
    },
    {
      "cell_type": "code",
      "source": [
        "nota1 = float(input('Digite primeiro número: '))\n",
        "nota2 = float(input('Digite segundo número: '))\n",
        "nota3 = float(input('Digite o terceiro número: '))\n",
        "nota4 = float(input('Digite o quarto número: '))\n",
        "nota5 = float(input('Digite o quinto número: '))\n",
        "media=(nota1+nota2+nota3+nota4+nota5)/5\n",
        "print(f'Média: {media}')"
      ],
      "metadata": {
        "colab": {
          "base_uri": "https://localhost:8080/"
        },
        "id": "8UmrdHGPrb6M",
        "outputId": "abd50b80-b7b7-4021-9a39-bfb1c0311464"
      },
      "execution_count": 17,
      "outputs": [
        {
          "output_type": "stream",
          "name": "stdout",
          "text": [
            "Digite primeiro número: 1.1\n",
            "Digite segundo número: 1.2\n",
            "Digite o terceiro número: 10\n",
            "Digite o quarto número: 10\n",
            "Digite o quinto número: 10\n",
            "Média: 6.459999999999999\n"
          ]
        }
      ]
    },
    {
      "cell_type": "markdown",
      "source": [
        "## Exercício 8\n",
        "\n",
        "Escreva um programa que faça a conversão de um dado valor de metro para quilômetro."
      ],
      "metadata": {
        "id": "_nk9s1iNt2MQ"
      }
    },
    {
      "cell_type": "code",
      "source": [
        "num = float(input('Digite um valor em mentros: '))\n",
        "print(f'{num} metros equivale a {num/1000} km')"
      ],
      "metadata": {
        "colab": {
          "base_uri": "https://localhost:8080/"
        },
        "id": "sZv38WfdsGaE",
        "outputId": "c4d5cadb-3211-4de1-b111-cd5281349413"
      },
      "execution_count": 18,
      "outputs": [
        {
          "output_type": "stream",
          "name": "stdout",
          "text": [
            "Digite um valor em mentros: 1500\n",
            "1500.0 metros equivale a 1.5 km\n"
          ]
        }
      ]
    },
    {
      "cell_type": "markdown",
      "source": [
        "# Exercício 9\n",
        "\n",
        "Escreva um programa que calcule a área de uma circunferência. O usuário deve digitar o valor do raio e ao final o programa deverá mostrar na tela a área da circunferência.\n",
        "\n",
        "Use a fórmula: área=pi*r² , em que pi é uma constante e r o raio da circunferência.\n",
        "\n",
        "Dica: você pode usar a biblioteca math para pegar a constante pi."
      ],
      "metadata": {
        "id": "ygT5YDaHuNa2"
      }
    },
    {
      "cell_type": "code",
      "source": [
        "from math import pi\n",
        "\n",
        "raio = float(input('Digite o valor do raio da circunferência: '))\n",
        "print(f'Área da circunferência: {pi*raio**2:.2f}')"
      ],
      "metadata": {
        "colab": {
          "base_uri": "https://localhost:8080/"
        },
        "id": "Q-LBAx0lsJa9",
        "outputId": "94b21bbe-82ea-454b-cace-dfdab7603c71"
      },
      "execution_count": 19,
      "outputs": [
        {
          "output_type": "stream",
          "name": "stdout",
          "text": [
            "Digite o valor do raio da circunferência: 5\n",
            "Área da circunferência: 78.54\n"
          ]
        }
      ]
    },
    {
      "cell_type": "markdown",
      "source": [
        "## Exercício 10\n",
        "\n",
        "Faça um programa que peça uma temperatura em Fahrenheit (F) e converta esta temperatura para grau Celsius (C), mostrando o resultado da conversão na tela.\n",
        "\n",
        "Use a fórmula: C = 5 * ((F-32) / 9)."
      ],
      "metadata": {
        "id": "EixSN9RpulhH"
      }
    },
    {
      "cell_type": "code",
      "source": [
        "f = float(input('Temperatura em Fahrenheit: \\n'))\n",
        "c = 5*((f-32)/9)\n",
        "print(f'{f:.2f}° F Equivale a {c:.2f}° C.')"
      ],
      "metadata": {
        "colab": {
          "base_uri": "https://localhost:8080/"
        },
        "id": "QeAn3NZ_uixQ",
        "outputId": "0e8705d5-0d17-40b2-dd2d-e93f2a15abb7"
      },
      "execution_count": 20,
      "outputs": [
        {
          "output_type": "stream",
          "name": "stdout",
          "text": [
            "Temperatura em Fahrenheit: \n",
            "130\n",
            "130.00° F Equivale a 54.44° C.\n"
          ]
        }
      ]
    },
    {
      "cell_type": "markdown",
      "source": [
        "## Exercício 11\n",
        "\n",
        "Escreva um programa que peça dois números e apresente a divisão e multiplicação entre eles. A tela de apresentação deverá seguir o seguinte formato:\n",
        "\n",
        "\"[número1]x[número2]=[multiplicação]\"\n",
        "\n",
        "\"[número1]/[número2]=[divisão]\""
      ],
      "metadata": {
        "id": "QmjP10O_u_hU"
      }
    },
    {
      "cell_type": "code",
      "source": [
        "num1 = float(input('Digite o primeiro número: '))\n",
        "num2 = float(input('Digite o segundo número: '))\n",
        "print(f'{num1}x{num2} = {num1*num2}')\n",
        "print(f'{num1}/{num2} = {num1/num2}')"
      ],
      "metadata": {
        "colab": {
          "base_uri": "https://localhost:8080/"
        },
        "id": "Cg__k2dPu5-N",
        "outputId": "5ceea179-f2f0-4be2-9026-32575da68f78"
      },
      "execution_count": 21,
      "outputs": [
        {
          "output_type": "stream",
          "name": "stdout",
          "text": [
            "Digite o primeiro número: 20\n",
            "Digite o segundo número: 3\n",
            "20.0x3.0 = 60.0\n",
            "20.0/3.0 = 6.666666666666667\n"
          ]
        }
      ]
    },
    {
      "cell_type": "markdown",
      "source": [
        "## Exercício 12\n",
        "\n",
        "Escreva um programa que receba o nome, sobrenome e idade do usuário e apresente a seguinte mensagem na tela:\n",
        "\n",
        "\"Seja bem-vindo [nome] [sobrenome].\"\n",
        "\n",
        "\"Você possui [idade] anos de idade.\"\n",
        "\n",
        "\n",
        "\n",
        "No campo nome e sobrenome utilize os métodos strip() e title(). Lembre-se que o primeiro método permite remover os espaços antes e depois da string, enquanto que o último permite colocar a string no formato titlecased (capitaliza a string)."
      ],
      "metadata": {
        "id": "0OmYNS8svj33"
      }
    },
    {
      "cell_type": "code",
      "source": [
        "nome = input('Digite seu primeiro nome: ').strip().title()\n",
        "sobrenome = input('Digite seu sobrenome: ').strip().title()\n",
        "idade = int(input('Digite sua idade: '))\n",
        "\n",
        "print(f'Seja bem-vindo {nome} {sobrenome}')\n",
        "print(f'Você possui {idade} anos de idade.')"
      ],
      "metadata": {
        "colab": {
          "base_uri": "https://localhost:8080/"
        },
        "id": "WPDOVNceve_y",
        "outputId": "3d7dc5ee-0ce6-4ca8-f0cb-5f63b22be34b"
      },
      "execution_count": 22,
      "outputs": [
        {
          "output_type": "stream",
          "name": "stdout",
          "text": [
            "Digite seu primeiro nome:   adnan  \n",
            "Digite seu sobrenome:    soffiatti\n",
            "Digite sua idade: 37\n",
            "Seja bem-vindo Adnan Soffiatti\n",
            "Você possui 37 anos de idade.\n"
          ]
        }
      ]
    },
    {
      "cell_type": "markdown",
      "source": [
        "## Exercício 13\n",
        "Escreva um programa que peça um número do usuário via método input e converta esse número para o formato float."
      ],
      "metadata": {
        "id": "SjibLzcXyxFt"
      }
    },
    {
      "cell_type": "code",
      "source": [
        "num = int(input('Digite um número inteiro: '))\n",
        "num = float(num)\n",
        "print(num)\n",
        "print(type(num))"
      ],
      "metadata": {
        "colab": {
          "base_uri": "https://localhost:8080/"
        },
        "id": "pWekas0fwWGY",
        "outputId": "b899457e-c43e-4b57-87ef-593119a17bc0"
      },
      "execution_count": 26,
      "outputs": [
        {
          "output_type": "stream",
          "name": "stdout",
          "text": [
            "Digite um número inteiro: 10\n",
            "10.0\n",
            "<class 'float'>\n"
          ]
        }
      ]
    },
    {
      "cell_type": "markdown",
      "source": [
        "## Exercício 14\n",
        "Escreva um programa que peça o nome e a idade do usuário. Caso a idade do usuário seja maior ou igual a 18 anos apresente a seguinte mensagem: \"Seja bem-vindo ao nosso site [nome]!\"; caso contrário, apresente a seguinte mensagem: \"Você não pode acessar nosso site [nome].\"."
      ],
      "metadata": {
        "id": "rz1jzb9QzOgs"
      }
    },
    {
      "cell_type": "code",
      "source": [
        "nome = input('Digite o seu nome: ')\n",
        "idade = int(input('Digite a sua idade: '))\n",
        "\n",
        "if idade >= 18:\n",
        "  print(f'Seja bem-vindo ao nosso site {nome}')\n",
        "else:\n",
        "  print(f'Você não pode acessar nosso site {nome}')"
      ],
      "metadata": {
        "colab": {
          "base_uri": "https://localhost:8080/"
        },
        "id": "dSWEZKHey_Zt",
        "outputId": "bec1e410-ef75-403d-b0ff-3dd1f89fee5e"
      },
      "execution_count": 28,
      "outputs": [
        {
          "output_type": "stream",
          "name": "stdout",
          "text": [
            "Digite o seu nome: Adnan\n",
            "Digite a sua idade: 37\n",
            "Seja bem-vindo ao nosso site Adnan\n"
          ]
        }
      ]
    },
    {
      "cell_type": "markdown",
      "source": [
        "## Exercício 15\n",
        "Elabore um programa para calcular a hipotenusa de um triângulo.\n",
        "\n",
        "Dicas:\n",
        "\n",
        "* Veja o módulo math (math.hypot);\n",
        "* Utilize a seguinte fórmula: hipotenusa=(a²+b²)¹/2:"
      ],
      "metadata": {
        "id": "3_bCLfCKzxV4"
      }
    },
    {
      "cell_type": "code",
      "source": [
        "from math import hypot\n",
        "\n",
        "cateto_a = float(input('Digite o Cateto Adjacente: '))\n",
        "cateto_o = float(input('Digite o Cateto Oposto: '))\n",
        "\n",
        "hipotenusa1 = (cateto_a**2 + cateto_o**2)**(1/2)\n",
        "hipotenusa2 = hypot(cateto_a, cateto_o)\n",
        "\n",
        "print(f'Hipotenusa: {hipotenusa1}')\n",
        "print(f'Hipotenusa: {hipotenusa2}')\n"
      ],
      "metadata": {
        "colab": {
          "base_uri": "https://localhost:8080/"
        },
        "id": "OiQCe-yhzsYG",
        "outputId": "1ca01636-cdf7-406d-fae4-2f1004a31aa6"
      },
      "execution_count": 29,
      "outputs": [
        {
          "output_type": "stream",
          "name": "stdout",
          "text": [
            "Digite o Cateto Adjacente: 2\n",
            "Digite o Cateto Oposto: 3\n",
            "Hipotenusa: 3.605551275463989\n",
            "Hipotenusa: 3.605551275463989\n"
          ]
        }
      ]
    },
    {
      "cell_type": "markdown",
      "source": [
        "## Exercício 16\n",
        "Faça um programa que recebe um número inteiro do usuário e calcule o fatorial deste número.\n",
        "\n",
        "\n",
        "\n",
        "Dica: utilize o módulo math do Python, especificamente math.fatorial."
      ],
      "metadata": {
        "id": "I221v8C30eox"
      }
    },
    {
      "cell_type": "code",
      "source": [
        "import math\n",
        "num = int(input('Digite um número inteiro: '))\n",
        "fatorial = math.factorial(num)\n",
        "print(f'O fatorial de {num} é {fatorial}')"
      ],
      "metadata": {
        "colab": {
          "base_uri": "https://localhost:8080/"
        },
        "id": "MVghQLEGHtom",
        "outputId": "9ab5bb39-3c21-4f11-a974-1b3060effe26"
      },
      "execution_count": 3,
      "outputs": [
        {
          "output_type": "stream",
          "name": "stdout",
          "text": [
            "Digite um número inteiro: 5\n",
            "O fatorial de 5 é 120\n"
          ]
        }
      ]
    },
    {
      "cell_type": "markdown",
      "source": [
        "## Exercício 17\n",
        "Escreva um programa que peça um número do usuário e calcule o logaritmo deste número nas bases 10 e 2.\n",
        "\n",
        "Dica: utilize o módulo math."
      ],
      "metadata": {
        "id": "7c9uJ-JCH-8y"
      }
    },
    {
      "cell_type": "code",
      "source": [
        "import math\n",
        "\n",
        "num = float(input('Digite um número: '))\n",
        "log1 = math.log10(num) # também podemos fazer: math.log(num,10)\n",
        "log2 = math.log(num, 2)\n",
        "print(f'O log de {num} na base 10 é {log1}')\n",
        "print(f'O log de {num} na base 2 é {log2}')"
      ],
      "metadata": {
        "colab": {
          "base_uri": "https://localhost:8080/"
        },
        "id": "hNFXseYpH6Ct",
        "outputId": "4ff8d251-9c40-46e4-cb69-66ef9e52774c"
      },
      "execution_count": 5,
      "outputs": [
        {
          "output_type": "stream",
          "name": "stdout",
          "text": [
            "Digite um número: 3\n",
            "O log de 3.0 na base 10 é 0.47712125471966244\n",
            "O log de 3.0 na base 2 é 1.5849625007211563\n"
          ]
        }
      ]
    },
    {
      "cell_type": "markdown",
      "source": [
        "## Exercício 18\n",
        "Faça um programa que peça a base e a altura de um retângulo e calcule e mostre na tela a área e o perímetro."
      ],
      "metadata": {
        "id": "DeAN78pEIgOh"
      }
    },
    {
      "cell_type": "code",
      "source": [
        "base = float(input('Digite a base do retãngulo: '))\n",
        "altura = float(input('Digite a altura do retângulo: '))\n",
        "\n",
        "area = base*altura\n",
        "perimetro = 2*base + 2*altura\n",
        "print(f'O retêngulo digitado tem base {base} e altura {altura}.')\n",
        "print(f'A área deste retêngulo é: {area}')\n",
        "print(f'O perímetro deste retângulo é: {perimetro}')"
      ],
      "metadata": {
        "colab": {
          "base_uri": "https://localhost:8080/"
        },
        "id": "AfZ6Uio8IXnX",
        "outputId": "517a2330-f722-4641-b460-c2a2ae9e5c6d"
      },
      "execution_count": 6,
      "outputs": [
        {
          "output_type": "stream",
          "name": "stdout",
          "text": [
            "Digite a base do retãngulo: 2\n",
            "Digite a altura do retângulo: 3\n",
            "O retêngulo digitado tem base 2.0 e altura 3.0.\n",
            "A área deste retêngulo é: 6.0\n",
            "O perímetro deste retângulo é: 10.0\n"
          ]
        }
      ]
    },
    {
      "cell_type": "markdown",
      "source": [
        "## Exercício 19\n",
        "Escreva um programa que solicite o nome, o sobrenome e o salário atual de um funcionário. Ao fim, calcule seu novo salário considerando cenários hipotéticos, com os seguintes aumentos: 10%, 25%,30% e 50%. A mensagem na tela deverá seguir o seguinte padrão:\n",
        "\n",
        "\n",
        "\n",
        "\"Olá, [nome] [sobrenome]\"\n",
        "\n",
        "\"Seu salário atual é : [salário]\"\n",
        "\n",
        "\"Seu salário com 10% de aumento é: [salário]\"\n",
        "\n",
        "\"Seu salário com 25% de aumento é: [salário]\"\n",
        "\n",
        "\"Seu salário com 30% de aumento é: [salário]\"\n",
        "\n",
        "\"Seu salário com 50% de aumento é: [salário]\"\n",
        "\n",
        "\n",
        "\n",
        "No campo nome e sobrenome utilize os métodos strip() e title(). Lembre-se que o primeiro método permite remover os espaços antes e após a string, enquanto que o último permite colocar a string no formato titlecased (capitaliza string)."
      ],
      "metadata": {
        "id": "8VtnTDeCJD4Q"
      }
    },
    {
      "cell_type": "markdown",
      "source": [
        "### Solução 1"
      ],
      "metadata": {
        "id": "EWO_CkrVJL1t"
      }
    },
    {
      "cell_type": "code",
      "source": [
        "nome = input('Digite seu nome: ').strip().title()\n",
        "sobrenome = input('Digite seu sobrenome: ').strip().title()\n",
        "salario = float(input('Digite seu salário: '))\n",
        "salario1 = salario+salario*0.1  # salario com 10% de aumento\n",
        "salario2 = salario+salario*0.25 # salario com 25% de aumento\n",
        "salario3 = salario+salario*0.3 # salario com 30% de aumento\n",
        "salario4 = salario+salario*0.5 # salario com 50% de aumento\n",
        "\n",
        "print(f'Olá, {nome} {sobrenome}')\n",
        "print(f'Seu salario atual é: R$ {salario:.2f}')\n",
        "print(f'Seu salário com 10% de aumento é: R$ {salario1:.2f}')\n",
        "print(f'Seu salário com 25% de aumento é: R$ {salario2:.2f}')\n",
        "print(f'Seu salário com 30% de aumento é: R$ {salario3:.2f}')\n",
        "print(f'Seu salário com 50% de aumento é: R$ {salario4:.2f}')"
      ],
      "metadata": {
        "colab": {
          "base_uri": "https://localhost:8080/"
        },
        "id": "VC0N8KpzJAb0",
        "outputId": "d5caf553-9f79-468c-d145-29e4fe5323dc"
      },
      "execution_count": 7,
      "outputs": [
        {
          "output_type": "stream",
          "name": "stdout",
          "text": [
            "Digite seu nome: Adnan\n",
            "Digite seu sobrenome: Soffiatti\n",
            "Digite seu salário: 2442\n",
            "Olá, Adnan Soffiatti\n",
            "Seu salario atual é: R$ 2442.00\n",
            "Seu salário com 10% de aumento é: R$ 2686.20\n",
            "Seu salário com 25% de aumento é: R$ 3052.50\n",
            "Seu salário com 30% de aumento é: R$ 3174.60\n",
            "Seu salário com 50% de aumento é: R$ 3663.00\n"
          ]
        }
      ]
    },
    {
      "cell_type": "markdown",
      "source": [
        "### Solução 2"
      ],
      "metadata": {
        "id": "0BvgO6pWKUHs"
      }
    },
    {
      "cell_type": "code",
      "source": [
        "nome = input('Digite seu nome: ').strip().title()\n",
        "sobrenome = input('Digite seu sobrenome: ').strip().title()\n",
        "salario = float(input('Digite o seu salário: '))\n",
        "salario1 = salario * 1.1  # salário com 10% de aumento\n",
        "salario2 = salario * 1.25 # salário com 25% de aumento\n",
        "salario3 = salario * 1.3  # salário com 30% de aumento\n",
        "salario4 - salario * 1.5  # salário com 50% de aumento\n",
        "\n",
        "print(f'Olá, {nome} {sobrenome}')\n",
        "print(f'Seu salário atual é R$ {salario}')\n",
        "print(f'Seu salário com 10% de aumento é: R$ {salario1:.2f}')\n",
        "print(f'Seu salário com 25% de aumento é: R$ {salario2:.2f}')\n",
        "print(f'Seu salário com 30% de aumento é: R$ {salario3:.2f}')\n",
        "print(f'Seu salário com 50% de aumento é: R$ {salario4:.2f}')"
      ],
      "metadata": {
        "colab": {
          "base_uri": "https://localhost:8080/"
        },
        "id": "n-p2Bj5WKF2I",
        "outputId": "0db6612b-1cf2-49b8-be42-445069df2d74"
      },
      "execution_count": 8,
      "outputs": [
        {
          "output_type": "stream",
          "name": "stdout",
          "text": [
            "Digite seu nome: Adnan\n",
            "Digite seu sobrenome: Santos\n",
            "Digite o seu salário: 2442\n",
            "Olá, Adnan Santos\n",
            "Seu salário atual é R$ 2442.0\n",
            "Seu salário com 10% de aumento é: R$ 2686.20\n",
            "Seu salário com 25% de aumento é: R$ 3052.50\n",
            "Seu salário com 30% de aumento é: R$ 3174.60\n",
            "Seu salário com 50% de aumento é: R$ 3663.00\n"
          ]
        }
      ]
    },
    {
      "cell_type": "markdown",
      "source": [
        "### Solução 3"
      ],
      "metadata": {
        "id": "qysgRK4wLIL6"
      }
    },
    {
      "cell_type": "code",
      "source": [
        "nome = input('Digite seu nome: ').strip().title()\n",
        "sobrenome = input('Digite seu sobrenome: ').strip().title()\n",
        "salario = float(input('Digite o seu salário: '))\n",
        "print(f'Olá, {nome} {sobrenome}')\n",
        "print(f'Seu salário atual é: R$ {salario}')\n",
        "print(f'Seu salário com 10% de aumento é: R$ {salario*1.1:.2f}')\n",
        "print(f'Seu salário com 25% de aumento é: R$ {salario*1.25:.2f}')\n",
        "print(f'Seu salário com 30% de aumento é: R$ {salario*1.3:.2f}')\n",
        "print(f'Seu salário com 50% de aumento é: R$ {salario*1.5:.2f}')"
      ],
      "metadata": {
        "colab": {
          "base_uri": "https://localhost:8080/"
        },
        "id": "B9kdBOnIKTaR",
        "outputId": "bb545474-98de-4aaa-bccd-f445b6ec1b12"
      },
      "execution_count": 12,
      "outputs": [
        {
          "output_type": "stream",
          "name": "stdout",
          "text": [
            "Digite seu nome: Adnan\n",
            "Digite seu sobrenome: Soffiatti\n",
            "Digite o seu salário: 2442\n",
            "Olá, Adnan Soffiatti\n",
            "Seu salário atual é: R$ 2442.0\n",
            "Seu salário com 10% de aumento é: R$ 2686.20\n",
            "Seu salário com 25% de aumento é: R$ 3052.50\n",
            "Seu salário com 30% de aumento é: R$ 3174.60\n",
            "Seu salário com 50% de aumento é: R$ 3663.00\n"
          ]
        }
      ]
    },
    {
      "cell_type": "markdown",
      "source": [
        "## Exercício 20\n",
        "Escreva um programa que peça um número inteiro do usuário e calcule e imprima a tabuada deste número."
      ],
      "metadata": {
        "id": "4_aqAQVZL8eh"
      }
    },
    {
      "cell_type": "code",
      "source": [
        "num = int(input('Digite um número inteiro: \\n'))\n",
        "print(f'Tabuada do número: {num}')\n",
        "print(f'{num} x 1 = {num*1}')\n",
        "print(f'{num} x 2 = {num*2}')\n",
        "print(f'{num} x 3 = {num*3}')\n",
        "print(f'{num} x 4 = {num*4}')\n",
        "print(f'{num} x 5 = {num*5}')\n",
        "print(f'{num} x 6 = {num*6}')\n",
        "print(f'{num} x 7 = {num*7}')\n",
        "print(f'{num} x 8 = {num*8}')\n",
        "print(f'{num} x 9 = {num*9}')\n",
        "print(f'{num} x 10 = {num*10}')"
      ],
      "metadata": {
        "colab": {
          "base_uri": "https://localhost:8080/"
        },
        "id": "oZXc_uO0LqDO",
        "outputId": "8e13cc52-e5d1-471a-d472-487114eca326"
      },
      "execution_count": 13,
      "outputs": [
        {
          "output_type": "stream",
          "name": "stdout",
          "text": [
            "Digite um número inteiro: \n",
            "3\n",
            "Tabuada do número: 3\n",
            "3 x 1 = 3\n",
            "3 x 2 = 6\n",
            "3 x 3 = 9\n",
            "3 x 4 = 12\n",
            "3 x 5 = 15\n",
            "3 x 6 = 18\n",
            "3 x 7 = 21\n",
            "3 x 8 = 24\n",
            "3 x 9 = 27\n",
            "3 x 10 = 30\n"
          ]
        }
      ]
    },
    {
      "cell_type": "markdown",
      "source": [
        "## Exercício 21\n",
        "Faça um programa que solicite um número inteiro e mostre o seu valor absoluto.\n",
        "\n",
        "\n",
        "\n",
        "Dica: use a função built-in abs()."
      ],
      "metadata": {
        "id": "Hy-Luhi-MZKR"
      }
    },
    {
      "cell_type": "code",
      "source": [
        "num = int(input('Digite um número inteiro: '))\n",
        "print(f'O valor absoluto de {num} é {abs(num)}.')"
      ],
      "metadata": {
        "colab": {
          "base_uri": "https://localhost:8080/"
        },
        "id": "ZexbKDEjMWXQ",
        "outputId": "14733f11-4095-404a-e91c-676d496cd561"
      },
      "execution_count": 14,
      "outputs": [
        {
          "output_type": "stream",
          "name": "stdout",
          "text": [
            "Digite um número inteiro: 4\n",
            "O valor absoluto de 4 é 4.\n"
          ]
        }
      ]
    },
    {
      "cell_type": "markdown",
      "source": [
        "## Exercício 22\n",
        "Faça um programa que peça uma string ao usuário e mostre na tela a quantidade de caracteres.\n",
        "\n",
        "\n",
        "\n",
        "Dica: use a função built-in len() e trate a string com o método strip()."
      ],
      "metadata": {
        "id": "0EQSetdjMoRR"
      }
    },
    {
      "cell_type": "code",
      "source": [
        "string = input('Digite algo: ').strip()\n",
        "print(f'Você digitou: {string}')\n",
        "print(f'Quantidade de caracteres do que você digitou é: {len(string)}')"
      ],
      "metadata": {
        "colab": {
          "base_uri": "https://localhost:8080/"
        },
        "id": "TL-ew43HMkTG",
        "outputId": "15288ee9-14c4-49a4-9ece-914fba0d4683"
      },
      "execution_count": 15,
      "outputs": [
        {
          "output_type": "stream",
          "name": "stdout",
          "text": [
            "Digite algo: Palmeiras\n",
            "Você digitou: Palmeiras\n",
            "Quantidade de caracteres do que você digitou é: 9\n"
          ]
        }
      ]
    },
    {
      "cell_type": "markdown",
      "source": [
        "## Exercício 23\n",
        "Escreva um programa que peça um número inteiro do usuário e mostre se esse número é par ou ímpar. A mensagem na tela deverá seguir o seguinte formato:\n",
        "\n",
        "\"O número [número] é [par/ímpar]\""
      ],
      "metadata": {
        "id": "8sUImPP4NBX0"
      }
    },
    {
      "cell_type": "code",
      "source": [
        "num = int(input('Digite número inteiro: '))\n",
        "\n",
        "if num % 2 == 0:\n",
        "  print(f'O número {num} é par.')\n",
        "else:\n",
        "  print(f'O número {num} é impar.')"
      ],
      "metadata": {
        "colab": {
          "base_uri": "https://localhost:8080/"
        },
        "id": "9k4K2pE-M-EZ",
        "outputId": "50892a5a-b059-407d-daa1-26d743cebafa"
      },
      "execution_count": 16,
      "outputs": [
        {
          "output_type": "stream",
          "name": "stdout",
          "text": [
            "Digite número inteiro: 15\n",
            "O número 15 é impar.\n"
          ]
        }
      ]
    },
    {
      "cell_type": "markdown",
      "source": [
        "## Exercício 24\n",
        "O Índice de Massa Corporal (IMC) é utilizado para mensurar o peso ideal de uma pessoa. Escreva um programa que peça o nome, a idade , o peso e a altura do usuário. Ao final calcule e mostre o resultado do seu IMC e classifique este resultado de acordo com a regra a seguir.\n",
        "\n",
        "\n",
        "\n",
        "IMC<17 - Muito abaixo do peso ideal\n",
        "\n",
        "17<=IMC<18,5 - Abaixo do peso\n",
        "\n",
        "18,5<=IMC<25 - Peso normal\n",
        "\n",
        "25<=IMC<30 - Acima do peso\n",
        "\n",
        "30<=IMC<35 - Obesidade I\n",
        "\n",
        "35<=IMC<40 - Obesidade II (severa)\n",
        "\n",
        "IMC>=40 - Obesidade III (mórbida)\n",
        "\n",
        "\n",
        "\n",
        "Lembre que: IMC=massa/(altura*altura)\n",
        "\n"
      ],
      "metadata": {
        "id": "ppkVAOO5NZTc"
      }
    },
    {
      "cell_type": "code",
      "source": [
        "print('Cálculo do IMC')\n",
        "altura = float(input('Insira sua altura: \\n'))\n",
        "peso = float(input('Insira seu peso: \\n'))\n",
        "imc = peso/(altura*altura)  # poderiamos fazer peso/altura**2\n",
        "print('Processando seus dados...')\n",
        "\n",
        "if imc < 17:\n",
        "  print('Muito abaixo do peso.')\n",
        "elif 17 <= imc < 18.5:\n",
        "  print('Abaixo do peso.')\n",
        "elif 18.5 <= imc < 25:\n",
        "  print('Peso normal.')\n",
        "elif 25 <= imc < 30:\n",
        "  print('Acima do peso.')\n",
        "elif 30 <= imc < 35:\n",
        "  print('Obesidade Grau I.')\n",
        "elif 35 <= imc < 40:\n",
        "  print('Obesidade Grau II.')\n",
        "else:\n",
        "  print('Obesidade Grau III (mórbida).')"
      ],
      "metadata": {
        "colab": {
          "base_uri": "https://localhost:8080/"
        },
        "id": "t_PO3kYpNW5M",
        "outputId": "16ecec89-50c1-47cc-9f11-87842dd293a6"
      },
      "execution_count": 19,
      "outputs": [
        {
          "output_type": "stream",
          "name": "stdout",
          "text": [
            "Cálculo do IMC\n",
            "Insira sua altura: \n",
            "1.82\n",
            "Insira seu peso: \n",
            "95\n",
            "Processando seus dados...\n",
            "Acima do peso.\n"
          ]
        }
      ]
    },
    {
      "cell_type": "markdown",
      "source": [
        "## Exercício 25\n",
        "Escreva um programa que receba dois números de ponto flutuante e mostre na tela o maior número digitado. Considere a possibilidade de o usuário digitar dois números iguais."
      ],
      "metadata": {
        "id": "_KgXnFpDPUS1"
      }
    },
    {
      "cell_type": "code",
      "source": [
        "n1 = float(input('Valor1: '))\n",
        "n2 = float(input('Valor2: '))\n",
        "\n",
        "if n1 > n2:\n",
        "  print(f'{n1}>{n2}')\n",
        "elif n1 == n2:\n",
        "  print(f'{n1}={n2}')\n",
        "else:\n",
        "  print(f'{n1}<{n2}')"
      ],
      "metadata": {
        "colab": {
          "base_uri": "https://localhost:8080/"
        },
        "id": "G6GwUeOwNlZS",
        "outputId": "76d49b7f-09ce-46cf-8b8d-ef5a3a59f746"
      },
      "execution_count": 20,
      "outputs": [
        {
          "output_type": "stream",
          "name": "stdout",
          "text": [
            "Valor1: 1\n",
            "Valor2: 3\n",
            "1.0<3.0\n"
          ]
        }
      ]
    },
    {
      "cell_type": "markdown",
      "source": [
        "## Exercício 26\n",
        "Escreva um programa que verifique se um determinado número digitado pelo usuário é nulo, positivo ou negativo."
      ],
      "metadata": {
        "id": "jk1xZxetQNTo"
      }
    },
    {
      "cell_type": "code",
      "source": [
        "num = float(input('Digite um número: '))\n",
        "\n",
        "if num>0:\n",
        "  print(f'Número positivo.')\n",
        "elif num==0:\n",
        "  print(f'Número nulo.')\n",
        "else:\n",
        "  print('Número negativo.')"
      ],
      "metadata": {
        "colab": {
          "base_uri": "https://localhost:8080/"
        },
        "id": "tqhpTj1OQE2D",
        "outputId": "2639973c-4852-4bc8-e718-e23429b5a60e"
      },
      "execution_count": 21,
      "outputs": [
        {
          "output_type": "stream",
          "name": "stdout",
          "text": [
            "Digite um número: -1\n",
            "Número negativo.\n"
          ]
        }
      ]
    },
    {
      "cell_type": "markdown",
      "source": [
        "## Exercício 27\n",
        "Escreva um programa que receba três números do usuário e mostre na tela o maior número digitado."
      ],
      "metadata": {
        "id": "Bdf_399mRiPl"
      }
    },
    {
      "cell_type": "code",
      "source": [
        "num1 = float(input('Número 1: '))\n",
        "num2 = float(input('Número 2: '))\n",
        "num3 = float(input('Número 3: '))\n",
        "\n",
        "if(num1 >= num2) and (num1 >= num3):\n",
        "  print(f'Maior número: {num1}')\n",
        "elif(num2 >= num1) and (num2 >= num3):\n",
        "  print(f'Maior número: {num2}')\n",
        "else:\n",
        "  print(f'Maior número: {num3}')"
      ],
      "metadata": {
        "colab": {
          "base_uri": "https://localhost:8080/"
        },
        "id": "aJJwCrqjQePd",
        "outputId": "cf4fd1c1-92d3-4f3f-91f2-4f0cc9137172"
      },
      "execution_count": 22,
      "outputs": [
        {
          "output_type": "stream",
          "name": "stdout",
          "text": [
            "Número 1: 30\n",
            "Número 2: 31\n",
            "Número 3: 34\n",
            "Maior número: 34.0\n"
          ]
        }
      ]
    },
    {
      "cell_type": "markdown",
      "source": [
        "## Exercício 28\n",
        "Escreva um programa que gere um número aleatório entre 1 e 100 e mostre na tela.\n",
        "\n",
        "Dica: utilize o módulo random."
      ],
      "metadata": {
        "id": "sTdrCwGtSFxF"
      }
    },
    {
      "cell_type": "markdown",
      "source": [
        "### Solução 1"
      ],
      "metadata": {
        "id": "dLf9fcVhSRJC"
      }
    },
    {
      "cell_type": "code",
      "source": [
        "import random\n",
        "\n",
        "num = random.randint(1,100)\n",
        "print(num)"
      ],
      "metadata": {
        "colab": {
          "base_uri": "https://localhost:8080/"
        },
        "id": "vqUkhEGqSB1u",
        "outputId": "f50eaec9-34b8-4201-8798-2508ebe34ab2"
      },
      "execution_count": 23,
      "outputs": [
        {
          "output_type": "stream",
          "name": "stdout",
          "text": [
            "57\n"
          ]
        }
      ]
    },
    {
      "cell_type": "markdown",
      "source": [
        "### Solução 2"
      ],
      "metadata": {
        "id": "tnBPGZAtSTUC"
      }
    },
    {
      "cell_type": "code",
      "source": [
        "from random import randint\n",
        "\n",
        "print(randint(1,100))"
      ],
      "metadata": {
        "colab": {
          "base_uri": "https://localhost:8080/"
        },
        "id": "F1nYUL__SPB8",
        "outputId": "823edeb6-972f-4763-8ec6-767389a21578"
      },
      "execution_count": 24,
      "outputs": [
        {
          "output_type": "stream",
          "name": "stdout",
          "text": [
            "77\n"
          ]
        }
      ]
    },
    {
      "cell_type": "markdown",
      "source": [
        "## Exercício 29\n",
        "Elabore um progama para verificar se um ano é bissexto ou não. A condição para ser um ano bissexto é: o ano deve ser divisível por 400; ou se for divisível por 4 e não for divisível por 100."
      ],
      "metadata": {
        "id": "XOz0XU9ESh2t"
      }
    },
    {
      "cell_type": "code",
      "source": [
        "ano = int(input('Ano: '))\n",
        "\n",
        "if ano % 400 == 0 or (ano % 4 == 0 and not ano % 100 == 0):\n",
        "  print('Ano bissexto.')\n",
        "else:\n",
        "  print('Ano não bissexto')"
      ],
      "metadata": {
        "colab": {
          "base_uri": "https://localhost:8080/"
        },
        "id": "OG-XgHTTSY8M",
        "outputId": "adb02313-6bdc-44d3-ffd8-07007739d8d3"
      },
      "execution_count": 26,
      "outputs": [
        {
          "output_type": "stream",
          "name": "stdout",
          "text": [
            "Ano: 2023\n",
            "Ano não bissexto\n"
          ]
        }
      ]
    },
    {
      "cell_type": "markdown",
      "source": [
        "## Exercício 30\n",
        "Elabore um programa para calcular o tamanho de uma string."
      ],
      "metadata": {
        "id": "NcGJVpvbS_16"
      }
    },
    {
      "cell_type": "code",
      "source": [
        "string = input('Digite algo: ').strip()\n",
        "print(len(string))"
      ],
      "metadata": {
        "colab": {
          "base_uri": "https://localhost:8080/"
        },
        "id": "ZY7O4cy-S7Tl",
        "outputId": "abde8b91-d8a9-4bba-e0bd-99bf41c20ba5"
      },
      "execution_count": 27,
      "outputs": [
        {
          "output_type": "stream",
          "name": "stdout",
          "text": [
            "Digite algo: Soffiatti\n",
            "9\n"
          ]
        }
      ]
    },
    {
      "cell_type": "markdown",
      "source": [
        "## Exercício 31\n",
        "Utilize o módulo datetime e mostre na tela a data e hora atual do sistema de acordo com o formato descrito abaixo.\n",
        "\n",
        "\n",
        "\n",
        "12/06/2020 - 14:34:17"
      ],
      "metadata": {
        "id": "p0q4lH8ETJVc"
      }
    },
    {
      "cell_type": "code",
      "source": [
        "import datetime\n",
        "\n",
        "data_atual = datetime.datetime.now()\n",
        "print(data_atual.strftime('%d/%m/%Y - %H:%M:%S'))"
      ],
      "metadata": {
        "colab": {
          "base_uri": "https://localhost:8080/"
        },
        "id": "V08xhhW3THTk",
        "outputId": "a69bf805-a358-42e5-92a0-061f65c0cd07"
      },
      "execution_count": 30,
      "outputs": [
        {
          "output_type": "stream",
          "name": "stdout",
          "text": [
            "30/06/2023 - 12:37:04\n"
          ]
        }
      ]
    },
    {
      "cell_type": "markdown",
      "source": [
        "## Exercício 32\n",
        "Escreva um programa que inverta uma string. Exemplos:\n",
        "\n",
        "Hello World!\n",
        "Python\n",
        "!dlroW olleH\n",
        "nohtyP"
      ],
      "metadata": {
        "id": "H5buP8nvTrOw"
      }
    },
    {
      "cell_type": "code",
      "source": [
        "string1 = 'Hello World!'\n",
        "string2 = 'Python'\n",
        "print(string1)\n",
        "print(string2)\n",
        "print(string1[::-1])\n",
        "print(string2[::-1])"
      ],
      "metadata": {
        "colab": {
          "base_uri": "https://localhost:8080/"
        },
        "id": "AEqdVjHnThhX",
        "outputId": "78ca2865-eb17-4f70-d3a8-dbc7675b9754"
      },
      "execution_count": 33,
      "outputs": [
        {
          "output_type": "stream",
          "name": "stdout",
          "text": [
            "Hello World!\n",
            "Python\n",
            "!dlroW olleH\n",
            "nohtyP\n"
          ]
        }
      ]
    },
    {
      "cell_type": "markdown",
      "source": [
        "## Exercício 33\n",
        "Escreva um programa para mostrar na tela o calendário do mês de dezembro de 2020. Exemplo:\n",
        "\n",
        "![calendario.png](data:image/png;base64,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)\n",
        "\n",
        "Dica: importe o módulo calendar."
      ],
      "metadata": {
        "id": "9mrXTFDJUQuS"
      }
    },
    {
      "cell_type": "code",
      "source": [
        "import calendar\n",
        "\n",
        "print(calendar.month(2020, 12))"
      ],
      "metadata": {
        "colab": {
          "base_uri": "https://localhost:8080/"
        },
        "id": "3dL_JYAoUKHB",
        "outputId": "16969e01-3431-45b4-f159-f40c0601ef79"
      },
      "execution_count": 34,
      "outputs": [
        {
          "output_type": "stream",
          "name": "stdout",
          "text": [
            "   December 2020\n",
            "Mo Tu We Th Fr Sa Su\n",
            "    1  2  3  4  5  6\n",
            " 7  8  9 10 11 12 13\n",
            "14 15 16 17 18 19 20\n",
            "21 22 23 24 25 26 27\n",
            "28 29 30 31\n",
            "\n"
          ]
        }
      ]
    },
    {
      "cell_type": "markdown",
      "source": [
        "## Exercício 34\n",
        "Modifique o programa anterior e permita que o usuário especifique o ano e o mês a serem mostrados na tela."
      ],
      "metadata": {
        "id": "NGGhwvVkVMSX"
      }
    },
    {
      "cell_type": "code",
      "source": [
        "import calendar\n",
        "\n",
        "ano = int(input('Ano: '))\n",
        "mes = int(input('Mês: '))\n",
        "\n",
        "print(calendar.month(ano, mes))"
      ],
      "metadata": {
        "colab": {
          "base_uri": "https://localhost:8080/"
        },
        "id": "1Ro6WYatVISa",
        "outputId": "84d3f19e-1768-45ce-ddf3-92324fde6375"
      },
      "execution_count": 35,
      "outputs": [
        {
          "output_type": "stream",
          "name": "stdout",
          "text": [
            "Ano: 2023\n",
            "Mês: 06\n",
            "     June 2023\n",
            "Mo Tu We Th Fr Sa Su\n",
            "          1  2  3  4\n",
            " 5  6  7  8  9 10 11\n",
            "12 13 14 15 16 17 18\n",
            "19 20 21 22 23 24 25\n",
            "26 27 28 29 30\n",
            "\n"
          ]
        }
      ]
    },
    {
      "cell_type": "markdown",
      "source": [
        "## Exercício 35\n",
        "Escreva um script que mostre na tela o preço de um produto associado a uma categoria especificada pelo usuário.  Utilize como referência as informações a seguir. Caso o usuário não digite uma categoria válida (número entre 1 e 10) mostre na tela uma mensagem personalizada.\n",
        "\n",
        "\n",
        "\n",
        "Exemplo: preço x categoria\n",
        "* Categoria 1 - $ 0,5\n",
        "* Categoria 2 - $ 11,3\n",
        "* Categoria 3 - $ 17,5\n",
        "* Categoria 4 - $ 33,97\n",
        "* Categoria 5 - $ 103,47\n",
        "* Categoria 6 - $ 44,67\n",
        "* Categoria 7 - $ 12,55\n",
        "* Categoria 8 - $ 14,87\n",
        "* Categoria 9 - $ 98,12\n",
        "* Categoria 10 - $ 131,4"
      ],
      "metadata": {
        "id": "7X9TYfmvViT2"
      }
    },
    {
      "cell_type": "code",
      "source": [
        "categoria = int(input('Digite a categoria do produto: '))\n",
        "\n",
        "if categoria == 1:\n",
        "  print('O preço do produto é: $ 0.5')\n",
        "elif categoria == 2:\n",
        "  print('O preço do produto é: $ 11.3')\n",
        "elif categoria == 3:\n",
        "  print('O preço do produto é: $ 17.5')\n",
        "elif categoria == 4:\n",
        "  print('O preço do produto é: $ 33.97')\n",
        "elif categoria == 5:\n",
        "  print('O preço do produto é: $ 103.47')\n",
        "elif categoria == 6:\n",
        "  print('O preço do produto é: $ 44.67')\n",
        "elif categoria == 7:\n",
        "  print('O preço do produto é: $ 12.55')\n",
        "elif categoria == 8:\n",
        "  print('O preço do produto é: $ 14.87')\n",
        "elif categoria == 9:\n",
        "  print('O preço do produto é: $ 98.12')\n",
        "elif categoria == 10:\n",
        "  print('O preço do produto é: $ 131.40')\n",
        "else:\n",
        "  print('Opção inválida.')"
      ],
      "metadata": {
        "colab": {
          "base_uri": "https://localhost:8080/"
        },
        "id": "JBjvPcj8VbJW",
        "outputId": "af4eccae-e4f0-4ffe-ba80-d5bb4459fe94"
      },
      "execution_count": 36,
      "outputs": [
        {
          "output_type": "stream",
          "name": "stdout",
          "text": [
            "Digite a categoria do produto: 4\n",
            "O preço do produto é: $ 33.97\n"
          ]
        }
      ]
    },
    {
      "cell_type": "markdown",
      "source": [
        "## Exercício 36\n",
        "Resolva o exercício anterior para as categorias de 1 a 8. Utilize estruturas aninhadas."
      ],
      "metadata": {
        "id": "HXOacRnHWmS-"
      }
    },
    {
      "cell_type": "code",
      "source": [
        "categoria = int(input('Categoria do produto: '))\n",
        "\n",
        "if categoria == 1:\n",
        "  print('Preço: $ 0.5')\n",
        "else:\n",
        "  if categoria == 2:\n",
        "    print('Preço: $ 11.35')\n",
        "  else:\n",
        "    if categoria == 3:\n",
        "      print('Preço: $ 17.5')\n",
        "    else:\n",
        "      if categoria == 4:\n",
        "        print('Preço: $ 33.97')\n",
        "      else:\n",
        "        if categoria == 5:\n",
        "          print('Preço: $ 103.47')\n",
        "        else:\n",
        "          if categoria == 6:\n",
        "            print('Preço: $ 44.67')\n",
        "          else:\n",
        "            if categoria == 7:\n",
        "              print('Preço: $ 12.55')\n",
        "            else:\n",
        "              if categoria == 8:\n",
        "                print('Preço: $ 14.87')\n",
        "              else:\n",
        "                print('Categoria inválida')"
      ],
      "metadata": {
        "colab": {
          "base_uri": "https://localhost:8080/"
        },
        "id": "_tnNxyjwWjTC",
        "outputId": "3054325e-c798-488f-e49a-8a4d0dee9c37"
      },
      "execution_count": 37,
      "outputs": [
        {
          "output_type": "stream",
          "name": "stdout",
          "text": [
            "Categoria do produto: 3\n",
            "Preço: $ 17.5\n"
          ]
        }
      ]
    },
    {
      "cell_type": "markdown",
      "source": [
        "## Exercício 37\n",
        "Determine se uma letra inserida pelo usuário é uma vogal ou consoante. Armazene as vogais em uma lista e implemente sua solução. Desconsidere a possibilidade de o usuário inserir números ou caracteres especiais."
      ],
      "metadata": {
        "id": "J_v7iCrVXaFL"
      }
    },
    {
      "cell_type": "code",
      "source": [
        "letra = input('Digite uma letra: ')\n",
        "vogais = ['a', 'e', 'i', 'o', 'u']\n",
        "\n",
        "if letra in vogais:\n",
        "  print('A letra digitada é uma vogal.')\n",
        "else:\n",
        "  print('A letra digitada é uma consoante.')"
      ],
      "metadata": {
        "colab": {
          "base_uri": "https://localhost:8080/"
        },
        "id": "7CfTta_sXU1W",
        "outputId": "3cddfb17-90ac-4492-fb68-3ed9fffb73e1"
      },
      "execution_count": 38,
      "outputs": [
        {
          "output_type": "stream",
          "name": "stdout",
          "text": [
            "Digite uma letra: d\n",
            "A letra digitada é uma consoante.\n"
          ]
        }
      ]
    },
    {
      "cell_type": "markdown",
      "source": [
        "## Exercício 38\n",
        "Escreva um script para classificar um triângulo de acordo com o tamanho dos seus lados. Considere as seguintes informações:\n",
        "\n",
        "Triângulo equilátero: todos os lados possuem o mesmo tamanho;\n",
        "\n",
        "Trângulo escaleno: todos os lados possuem medidas diferentes;\n",
        "\n",
        "Triângulo isósceles: caracterizado por ter dois lados com o mesmo tamanho."
      ],
      "metadata": {
        "id": "WD2EYNhHXyXU"
      }
    },
    {
      "cell_type": "code",
      "source": [
        "ladoA = float(input('Lado A: '))\n",
        "ladoB = float(input('Lado B: '))\n",
        "ladoC = float(input('Lado C: '))\n",
        "\n",
        "if ladoA == ladoB == ladoC:\n",
        "  print('O triângulo é equilátero.')\n",
        "elif ladoA == ladoB or ladoA == ladoC or ladoB == ladoC:\n",
        "  print('O triângulo é isósceles.')\n",
        "else:\n",
        "  print('O triângulo é escaleno.')"
      ],
      "metadata": {
        "colab": {
          "base_uri": "https://localhost:8080/"
        },
        "id": "QsTLn6g8XvHJ",
        "outputId": "84f7d259-252d-4a5d-f09b-2efb5f020bc4"
      },
      "execution_count": 40,
      "outputs": [
        {
          "output_type": "stream",
          "name": "stdout",
          "text": [
            "Lado A: 1\n",
            "Lado B: 2\n",
            "Lado C: 3\n",
            "O triângulo é escaleno.\n"
          ]
        }
      ]
    },
    {
      "cell_type": "markdown",
      "source": [
        "## Exercício 39\n",
        "Implemente uma calculadora simples com as operações aritméticas básicas. O usuário deverá especificar a operação desejada (+,-,*,/) e seguidamente inserir dois valores. Caso, o usuário escolha divisão e insira o valor do denominar 0 mostre uma mensagem personalizada. Para os demais casos, mostre na tela o resultado da operação desejada."
      ],
      "metadata": {
        "id": "PQtRQJueYYPX"
      }
    },
    {
      "cell_type": "code",
      "source": [
        "operacao = input('Escolha a operação desejada: (+, -, *, /)')\n",
        "\n",
        "if operacao in ['+', '-', '*', '/']:\n",
        "  num1 = float(input('Número 1: '))\n",
        "  num2 = float(input('Número 2: '))\n",
        "\n",
        "  if operacao == '+':\n",
        "    print(f'{num1}+{num2} = {num1+num2}')\n",
        "  elif operacao == '-':\n",
        "    print(f'{num1}-{num2} = {num1-num2}')\n",
        "  elif operacao == '*':\n",
        "    print(f'{num1}*{num2} = {num1*num2}')\n",
        "  else:\n",
        "    if num2==0:\n",
        "      print('O denominador precisa ser diferente de zero.')\n",
        "    else:\n",
        "      print(f'{num1}/{num2} = {num1/num2}')\n",
        "else:\n",
        "  print('Opção inválida.')"
      ],
      "metadata": {
        "colab": {
          "base_uri": "https://localhost:8080/"
        },
        "id": "imqaAJTyYSac",
        "outputId": "90d5d1c1-d4d2-4c02-9401-c2631caf72a4"
      },
      "execution_count": 41,
      "outputs": [
        {
          "output_type": "stream",
          "name": "stdout",
          "text": [
            "Escolha a operação desejada: (+, -, *, /)*\n",
            "Número 1: 3\n",
            "Número 2: 2\n",
            "3.0*2.0 = 6.0\n"
          ]
        }
      ]
    },
    {
      "cell_type": "code",
      "source": [],
      "metadata": {
        "id": "eOWf8NT2ZVZa"
      },
      "execution_count": null,
      "outputs": []
    }
  ]
}