{
  "nbformat": 4,
  "nbformat_minor": 0,
  "metadata": {
    "colab": {
      "provenance": [],
      "authorship_tag": "ABX9TyO0RULxt+CMyYWjOIseSW8S",
      "include_colab_link": true
    },
    "kernelspec": {
      "name": "python3",
      "display_name": "Python 3"
    },
    "language_info": {
      "name": "python"
    }
  },
  "cells": [
    {
      "cell_type": "markdown",
      "metadata": {
        "id": "view-in-github",
        "colab_type": "text"
      },
      "source": [
        "<a href=\"https://colab.research.google.com/github/adnansoffiatti/python_fundamentos/blob/main/Exercicios1.ipynb\" target=\"_parent\"><img src=\"https://colab.research.google.com/assets/colab-badge.svg\" alt=\"Open In Colab\"/></a>"
      ]
    },
    {
      "cell_type": "markdown",
      "source": [
        "# Variáveis, tipos de dados e estrutura condicionais"
      ],
      "metadata": {
        "id": "5B7GDAmtnxKU"
      }
    },
    {
      "cell_type": "markdown",
      "source": [
        "## Exercício 1\n",
        "\n",
        "Escreva um programa que mostre a mensagem 'Hello World!' na tela."
      ],
      "metadata": {
        "id": "ZAfyLVfjn49g"
      }
    },
    {
      "cell_type": "code",
      "execution_count": 1,
      "metadata": {
        "colab": {
          "base_uri": "https://localhost:8080/"
        },
        "id": "CyomMIfbno_O",
        "outputId": "fbfa28a3-3535-4090-c2eb-9daf2edf3e7d"
      },
      "outputs": [
        {
          "output_type": "stream",
          "name": "stdout",
          "text": [
            "Hello World!\n"
          ]
        }
      ],
      "source": [
        "print('Hello World!')"
      ]
    },
    {
      "cell_type": "markdown",
      "source": [
        "## Exercício 2\n",
        "\n",
        "Faça um programa que solicite um número do usuário e apresente a seguinte mensagem na tela:\n",
        "\n",
        "\"O número digitado foi [número]\"."
      ],
      "metadata": {
        "id": "X1ib9-tfoBme"
      }
    },
    {
      "cell_type": "code",
      "source": [
        "num1 = int(input('Digite um número: '))\n",
        "print(f'O número digito foi {num1}')"
      ],
      "metadata": {
        "colab": {
          "base_uri": "https://localhost:8080/"
        },
        "id": "KfKJw4ZOoBGJ",
        "outputId": "ac27f284-c993-4109-c587-2166abfe3b3d"
      },
      "execution_count": 2,
      "outputs": [
        {
          "output_type": "stream",
          "name": "stdout",
          "text": [
            "Digite um número: 17\n",
            "O número digito foi 17\n"
          ]
        }
      ]
    },
    {
      "cell_type": "markdown",
      "source": [
        "## Exercício 3\n",
        "\n",
        "Escreva um programa que solicite o nome e o sobrenome do usuário. Ao final o programa deverá apresentar o nome completo do usuário na tela."
      ],
      "metadata": {
        "id": "_Dlxozc0obyb"
      }
    },
    {
      "cell_type": "code",
      "source": [
        "nome = input('Digite seu primeiro nome: ').strip().title()\n",
        "sobrenome = input('Digite seu sobrenome: ').strip().title()\n",
        "print(f'{nome} {sobrenome}')"
      ],
      "metadata": {
        "colab": {
          "base_uri": "https://localhost:8080/"
        },
        "id": "MkKofrGnoTTx",
        "outputId": "0af9cd06-cdd6-456a-f7e3-523dbf8273c1"
      },
      "execution_count": 5,
      "outputs": [
        {
          "output_type": "stream",
          "name": "stdout",
          "text": [
            "Digite seu primeiro nome: Adnan\n",
            "Digite seu sobrenome: Santos\n",
            "Adnan Santos\n"
          ]
        }
      ]
    },
    {
      "cell_type": "markdown",
      "source": [
        "## Exercício 4\n",
        "\n",
        "Faça um programa que solicite três números inteiros do usuário e imprima a soma destes."
      ],
      "metadata": {
        "id": "-9zf5INApSYh"
      }
    },
    {
      "cell_type": "code",
      "source": [
        "num1 = int(input('Digite o primeiro número: '))\n",
        "num2 = int(input('Digite o segundo número: '))\n",
        "num3 = int(input('Digite o terceiro número: '))\n",
        "lista_num = [num1, num2, num3]\n",
        "print(sum(lista_num))"
      ],
      "metadata": {
        "colab": {
          "base_uri": "https://localhost:8080/"
        },
        "id": "bT75fcAhoyJp",
        "outputId": "8334e39b-b650-40ae-d43a-5c622dea39ba"
      },
      "execution_count": 7,
      "outputs": [
        {
          "output_type": "stream",
          "name": "stdout",
          "text": [
            "Digite o primeiro número: 10\n",
            "Digite o segundo número: 11\n",
            "Digite o terceiro número: 12\n",
            "33\n"
          ]
        }
      ]
    },
    {
      "cell_type": "markdown",
      "source": [
        "# Exercício 5\n",
        "\n",
        "Escreva um programa que solicite duas notas do usuário e apresente a média na tela da seguinte forma:\n",
        "\n",
        "\"A média das notas [nota1] e [nota2] é [média]\""
      ],
      "metadata": {
        "id": "B5q3ETTiqELH"
      }
    },
    {
      "cell_type": "code",
      "source": [
        "nota1 = float(input('Digite a primeira nota: '))\n",
        "nota2 = float(input('Digite a segunda nota: '))\n",
        "media = (nota1 + nota2) / 2\n",
        "print(f'A média das notas {nota1} e {nota2} é {media}')"
      ],
      "metadata": {
        "colab": {
          "base_uri": "https://localhost:8080/"
        },
        "id": "5a_E4AdEpltO",
        "outputId": "bf857760-747a-4537-ebd6-d6cd8bfa097c"
      },
      "execution_count": 8,
      "outputs": [
        {
          "output_type": "stream",
          "name": "stdout",
          "text": [
            "Digite a primeira nota: 10\n",
            "Digite a segunda nota: 8\n",
            "A média das notas 10.0 e 8.0 é 9.0\n"
          ]
        }
      ]
    },
    {
      "cell_type": "markdown",
      "source": [
        "## Exercício 6\n",
        "\n",
        "Faça um programa que calcule a raiz quadrada de um número. O usuário deve inserir um número e o programa deve mostrar na tela o resultado da raiz quadrada do número inserido."
      ],
      "metadata": {
        "id": "qpDshav7qyOi"
      }
    },
    {
      "cell_type": "code",
      "source": [
        "num = float(input('Digite um número: '))\n",
        "print(f'A raiz quadrada de {num} é {num**(1/2)}')"
      ],
      "metadata": {
        "colab": {
          "base_uri": "https://localhost:8080/"
        },
        "id": "G_mlMLbrqpek",
        "outputId": "5a5b80d2-96b2-47fc-fc93-418265efdca6"
      },
      "execution_count": 11,
      "outputs": [
        {
          "output_type": "stream",
          "name": "stdout",
          "text": [
            "Digite um número: 25\n",
            "A raiz quadrada de 25.0 é 5.0\n"
          ]
        }
      ]
    },
    {
      "cell_type": "markdown",
      "source": [
        "## Exercício 7\n",
        "\n",
        "Faça um programa que peça 5 números de ponto flutuante do usuário e apresente no final a média dos números digitados."
      ],
      "metadata": {
        "id": "rrW3xd_przWm"
      }
    },
    {
      "cell_type": "code",
      "source": [
        "nota1 = float(input('Digite primeiro número: '))\n",
        "nota2 = float(input('Digite segundo número: '))\n",
        "nota3 = float(input('Digite o terceiro número: '))\n",
        "nota4 = float(input('Digite o quarto número: '))\n",
        "nota5 = float(input('Digite o quinto número: '))\n",
        "media=(nota1+nota2+nota3+nota4+nota5)/5\n",
        "print(f'Média: {media}')"
      ],
      "metadata": {
        "colab": {
          "base_uri": "https://localhost:8080/"
        },
        "id": "8UmrdHGPrb6M",
        "outputId": "abd50b80-b7b7-4021-9a39-bfb1c0311464"
      },
      "execution_count": 17,
      "outputs": [
        {
          "output_type": "stream",
          "name": "stdout",
          "text": [
            "Digite primeiro número: 1.1\n",
            "Digite segundo número: 1.2\n",
            "Digite o terceiro número: 10\n",
            "Digite o quarto número: 10\n",
            "Digite o quinto número: 10\n",
            "Média: 6.459999999999999\n"
          ]
        }
      ]
    },
    {
      "cell_type": "markdown",
      "source": [
        "## Exercício 8\n",
        "\n",
        "Escreva um programa que faça a conversão de um dado valor de metro para quilômetro."
      ],
      "metadata": {
        "id": "_nk9s1iNt2MQ"
      }
    },
    {
      "cell_type": "code",
      "source": [
        "num = float(input('Digite um valor em mentros: '))\n",
        "print(f'{num} metros equivale a {num/1000} km')"
      ],
      "metadata": {
        "colab": {
          "base_uri": "https://localhost:8080/"
        },
        "id": "sZv38WfdsGaE",
        "outputId": "c4d5cadb-3211-4de1-b111-cd5281349413"
      },
      "execution_count": 18,
      "outputs": [
        {
          "output_type": "stream",
          "name": "stdout",
          "text": [
            "Digite um valor em mentros: 1500\n",
            "1500.0 metros equivale a 1.5 km\n"
          ]
        }
      ]
    },
    {
      "cell_type": "markdown",
      "source": [
        "# Exercício 9\n",
        "\n",
        "Escreva um programa que calcule a área de uma circunferência. O usuário deve digitar o valor do raio e ao final o programa deverá mostrar na tela a área da circunferência.\n",
        "\n",
        "Use a fórmula: área=pi*r² , em que pi é uma constante e r o raio da circunferência.\n",
        "\n",
        "Dica: você pode usar a biblioteca math para pegar a constante pi."
      ],
      "metadata": {
        "id": "ygT5YDaHuNa2"
      }
    },
    {
      "cell_type": "code",
      "source": [
        "from math import pi\n",
        "\n",
        "raio = float(input('Digite o valor do raio da circunferência: '))\n",
        "print(f'Área da circunferência: {pi*raio**2:.2f}')"
      ],
      "metadata": {
        "colab": {
          "base_uri": "https://localhost:8080/"
        },
        "id": "Q-LBAx0lsJa9",
        "outputId": "94b21bbe-82ea-454b-cace-dfdab7603c71"
      },
      "execution_count": 19,
      "outputs": [
        {
          "output_type": "stream",
          "name": "stdout",
          "text": [
            "Digite o valor do raio da circunferência: 5\n",
            "Área da circunferência: 78.54\n"
          ]
        }
      ]
    },
    {
      "cell_type": "markdown",
      "source": [
        "## Exercício 10\n",
        "\n",
        "Faça um programa que peça uma temperatura em Fahrenheit (F) e converta esta temperatura para grau Celsius (C), mostrando o resultado da conversão na tela.\n",
        "\n",
        "Use a fórmula: C = 5 * ((F-32) / 9)."
      ],
      "metadata": {
        "id": "EixSN9RpulhH"
      }
    },
    {
      "cell_type": "code",
      "source": [
        "f = float(input('Temperatura em Fahrenheit: \\n'))\n",
        "c = 5*((f-32)/9)\n",
        "print(f'{f:.2f}° F Equivale a {c:.2f}° C.')"
      ],
      "metadata": {
        "colab": {
          "base_uri": "https://localhost:8080/"
        },
        "id": "QeAn3NZ_uixQ",
        "outputId": "0e8705d5-0d17-40b2-dd2d-e93f2a15abb7"
      },
      "execution_count": 20,
      "outputs": [
        {
          "output_type": "stream",
          "name": "stdout",
          "text": [
            "Temperatura em Fahrenheit: \n",
            "130\n",
            "130.00° F Equivale a 54.44° C.\n"
          ]
        }
      ]
    },
    {
      "cell_type": "markdown",
      "source": [
        "## Exercício 11\n",
        "\n",
        "Escreva um programa que peça dois números e apresente a divisão e multiplicação entre eles. A tela de apresentação deverá seguir o seguinte formato:\n",
        "\n",
        "\"[número1]x[número2]=[multiplicação]\"\n",
        "\n",
        "\"[número1]/[número2]=[divisão]\""
      ],
      "metadata": {
        "id": "QmjP10O_u_hU"
      }
    },
    {
      "cell_type": "code",
      "source": [
        "num1 = float(input('Digite o primeiro número: '))\n",
        "num2 = float(input('Digite o segundo número: '))\n",
        "print(f'{num1}x{num2} = {num1*num2}')\n",
        "print(f'{num1}/{num2} = {num1/num2}')"
      ],
      "metadata": {
        "colab": {
          "base_uri": "https://localhost:8080/"
        },
        "id": "Cg__k2dPu5-N",
        "outputId": "5ceea179-f2f0-4be2-9026-32575da68f78"
      },
      "execution_count": 21,
      "outputs": [
        {
          "output_type": "stream",
          "name": "stdout",
          "text": [
            "Digite o primeiro número: 20\n",
            "Digite o segundo número: 3\n",
            "20.0x3.0 = 60.0\n",
            "20.0/3.0 = 6.666666666666667\n"
          ]
        }
      ]
    },
    {
      "cell_type": "markdown",
      "source": [
        "## Exercício 12\n",
        "\n",
        "Escreva um programa que receba o nome, sobrenome e idade do usuário e apresente a seguinte mensagem na tela:\n",
        "\n",
        "\"Seja bem-vindo [nome] [sobrenome].\"\n",
        "\n",
        "\"Você possui [idade] anos de idade.\"\n",
        "\n",
        "\n",
        "\n",
        "No campo nome e sobrenome utilize os métodos strip() e title(). Lembre-se que o primeiro método permite remover os espaços antes e depois da string, enquanto que o último permite colocar a string no formato titlecased (capitaliza a string)."
      ],
      "metadata": {
        "id": "0OmYNS8svj33"
      }
    },
    {
      "cell_type": "code",
      "source": [
        "nome = input('Digite seu primeiro nome: ').strip().title()\n",
        "sobrenome = input('Digite seu sobrenome: ').strip().title()\n",
        "idade = int(input('Digite sua idade: '))\n",
        "\n",
        "print(f'Seja bem-vindo {nome} {sobrenome}')\n",
        "print(f'Você possui {idade} anos de idade.')"
      ],
      "metadata": {
        "colab": {
          "base_uri": "https://localhost:8080/"
        },
        "id": "WPDOVNceve_y",
        "outputId": "3d7dc5ee-0ce6-4ca8-f0cb-5f63b22be34b"
      },
      "execution_count": 22,
      "outputs": [
        {
          "output_type": "stream",
          "name": "stdout",
          "text": [
            "Digite seu primeiro nome:   adnan  \n",
            "Digite seu sobrenome:    soffiatti\n",
            "Digite sua idade: 37\n",
            "Seja bem-vindo Adnan Soffiatti\n",
            "Você possui 37 anos de idade.\n"
          ]
        }
      ]
    },
    {
      "cell_type": "markdown",
      "source": [
        "## Exercício 13\n",
        "Escreva um programa que peça um número do usuário via método input e converta esse número para o formato float."
      ],
      "metadata": {
        "id": "SjibLzcXyxFt"
      }
    },
    {
      "cell_type": "code",
      "source": [
        "num = int(input('Digite um número inteiro: '))\n",
        "num = float(num)\n",
        "print(num)\n",
        "print(type(num))"
      ],
      "metadata": {
        "colab": {
          "base_uri": "https://localhost:8080/"
        },
        "id": "pWekas0fwWGY",
        "outputId": "b899457e-c43e-4b57-87ef-593119a17bc0"
      },
      "execution_count": 26,
      "outputs": [
        {
          "output_type": "stream",
          "name": "stdout",
          "text": [
            "Digite um número inteiro: 10\n",
            "10.0\n",
            "<class 'float'>\n"
          ]
        }
      ]
    },
    {
      "cell_type": "markdown",
      "source": [
        "## Exercício 14\n",
        "Escreva um programa que peça o nome e a idade do usuário. Caso a idade do usuário seja maior ou igual a 18 anos apresente a seguinte mensagem: \"Seja bem-vindo ao nosso site [nome]!\"; caso contrário, apresente a seguinte mensagem: \"Você não pode acessar nosso site [nome].\"."
      ],
      "metadata": {
        "id": "rz1jzb9QzOgs"
      }
    },
    {
      "cell_type": "code",
      "source": [
        "nome = input('Digite o seu nome: ')\n",
        "idade = int(input('Digite a sua idade: '))\n",
        "\n",
        "if idade >= 18:\n",
        "  print(f'Seja bem-vindo ao nosso site {nome}')\n",
        "else:\n",
        "  print(f'Você não pode acessar nosso site {nome}')"
      ],
      "metadata": {
        "colab": {
          "base_uri": "https://localhost:8080/"
        },
        "id": "dSWEZKHey_Zt",
        "outputId": "bec1e410-ef75-403d-b0ff-3dd1f89fee5e"
      },
      "execution_count": 28,
      "outputs": [
        {
          "output_type": "stream",
          "name": "stdout",
          "text": [
            "Digite o seu nome: Adnan\n",
            "Digite a sua idade: 37\n",
            "Seja bem-vindo ao nosso site Adnan\n"
          ]
        }
      ]
    },
    {
      "cell_type": "markdown",
      "source": [
        "## Exercício 15\n",
        "Elabore um programa para calcular a hipotenusa de um triângulo.\n",
        "\n",
        "Dicas:\n",
        "\n",
        "* Veja o módulo math (math.hypot);\n",
        "* Utilize a seguinte fórmula: hipotenusa=(a²+b²)¹/2:"
      ],
      "metadata": {
        "id": "3_bCLfCKzxV4"
      }
    },
    {
      "cell_type": "code",
      "source": [
        "from math import hypot\n",
        "\n",
        "cateto_a = float(input('Digite o Cateto Adjacente: '))\n",
        "cateto_o = float(input('Digite o Cateto Oposto: '))\n",
        "\n",
        "hipotenusa1 = (cateto_a**2 + cateto_o**2)**(1/2)\n",
        "hipotenusa2 = hypot(cateto_a, cateto_o)\n",
        "\n",
        "print(f'Hipotenusa: {hipotenusa1}')\n",
        "print(f'Hipotenusa: {hipotenusa2}')\n"
      ],
      "metadata": {
        "colab": {
          "base_uri": "https://localhost:8080/"
        },
        "id": "OiQCe-yhzsYG",
        "outputId": "1ca01636-cdf7-406d-fae4-2f1004a31aa6"
      },
      "execution_count": 29,
      "outputs": [
        {
          "output_type": "stream",
          "name": "stdout",
          "text": [
            "Digite o Cateto Adjacente: 2\n",
            "Digite o Cateto Oposto: 3\n",
            "Hipotenusa: 3.605551275463989\n",
            "Hipotenusa: 3.605551275463989\n"
          ]
        }
      ]
    },
    {
      "cell_type": "markdown",
      "source": [
        "## Exercício 16\n",
        "Faça um programa que recebe um número inteiro do usuário e calcule o fatorial deste número.\n",
        "\n",
        "\n",
        "\n",
        "Dica: utilize o módulo math do Python, especificamente math.fatorial."
      ],
      "metadata": {
        "id": "I221v8C30eox"
      }
    },
    {
      "cell_type": "code",
      "source": [],
      "metadata": {
        "id": "Gp8yYjUH0ZG4"
      },
      "execution_count": null,
      "outputs": []
    }
  ]
}