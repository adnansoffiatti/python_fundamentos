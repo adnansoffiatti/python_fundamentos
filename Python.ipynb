{
  "nbformat": 4,
  "nbformat_minor": 0,
  "metadata": {
    "colab": {
      "provenance": [],
      "authorship_tag": "ABX9TyMBf0e9HSAsYrRnGOgM+hRQ",
      "include_colab_link": true
    },
    "kernelspec": {
      "name": "python3",
      "display_name": "Python 3"
    },
    "language_info": {
      "name": "python"
    }
  },
  "cells": [
    {
      "cell_type": "markdown",
      "metadata": {
        "id": "view-in-github",
        "colab_type": "text"
      },
      "source": [
        "<a href=\"https://colab.research.google.com/github/adnansoffiatti/python_fundamentos/blob/main/Python.ipynb\" target=\"_parent\"><img src=\"https://colab.research.google.com/assets/colab-badge.svg\" alt=\"Open In Colab\"/></a>"
      ]
    },
    {
      "cell_type": "markdown",
      "source": [
        "# 1. Primeiros Passos"
      ],
      "metadata": {
        "id": "8H8MzqeVIs1f"
      }
    },
    {
      "cell_type": "markdown",
      "source": [],
      "metadata": {
        "id": "OJducS7eIsuz"
      }
    },
    {
      "cell_type": "code",
      "execution_count": 1,
      "metadata": {
        "colab": {
          "base_uri": "https://localhost:8080/",
          "height": 0
        },
        "id": "hAVkoxFOIpiS",
        "outputId": "5dcb03a3-0afb-4bb7-a417-e8352cc0f1a8"
      },
      "outputs": [
        {
          "output_type": "stream",
          "name": "stdout",
          "text": [
            "Hello World\n"
          ]
        }
      ],
      "source": [
        "print('Hello World')"
      ]
    },
    {
      "cell_type": "code",
      "source": [
        "print('Olá Adnan')\n",
        "print('Sua idade é 37 anos.')\n",
        "print('Seu peso é 87kg.')"
      ],
      "metadata": {
        "colab": {
          "base_uri": "https://localhost:8080/",
          "height": 0
        },
        "id": "IspW6ek9I3kb",
        "outputId": "884e0391-5131-4eab-dc32-33313f5251d1"
      },
      "execution_count": 2,
      "outputs": [
        {
          "output_type": "stream",
          "name": "stdout",
          "text": [
            "Olá Adnan\n",
            "Sua idade é 37 anos.\n",
            "Seu peso é 87kg.\n"
          ]
        }
      ]
    },
    {
      "cell_type": "code",
      "source": [
        "nome = 'Carlos'\n",
        "idade = '18'\n",
        "peso = '67'\n",
        "print('Olá, '+nome+' !')\n",
        "print('Sua idade é '+idade+' anos.')\n",
        "print('Seu peso é '+peso+' kg.')"
      ],
      "metadata": {
        "colab": {
          "base_uri": "https://localhost:8080/",
          "height": 0
        },
        "id": "yWXlTzBbJEuZ",
        "outputId": "2dad662a-2e8b-4348-cd47-3c775b0cd9c4"
      },
      "execution_count": 3,
      "outputs": [
        {
          "output_type": "stream",
          "name": "stdout",
          "text": [
            "Olá, Carlos !\n",
            "Sua idade é 18 anos.\n",
            "Seu peso é 67 kg.\n"
          ]
        }
      ]
    },
    {
      "cell_type": "code",
      "source": [
        "print(f'Olá, {nome}!')\n",
        "print(f'Sua idade é {idade} anos')\n",
        "print(f'Seu peso é {peso}kg.')"
      ],
      "metadata": {
        "colab": {
          "base_uri": "https://localhost:8080/",
          "height": 0
        },
        "id": "bjiw9N79sb_-",
        "outputId": "0e4776b0-3b33-4711-84c3-2aad7ac6366e"
      },
      "execution_count": 4,
      "outputs": [
        {
          "output_type": "stream",
          "name": "stdout",
          "text": [
            "Olá, Carlos!\n",
            "Sua idade é 18 anos\n",
            "Seu peso é 67kg.\n"
          ]
        }
      ]
    },
    {
      "cell_type": "markdown",
      "source": [
        "# 2. Variáveis"
      ],
      "metadata": {
        "id": "XngC4vRvs2MI"
      }
    },
    {
      "cell_type": "markdown",
      "source": [
        "\n",
        "\n",
        "* Declarando variáveis\n",
        "\n"
      ],
      "metadata": {
        "id": "O4kD5LdJs5Oh"
      }
    },
    {
      "cell_type": "code",
      "source": [
        "nome = 'João'\n",
        "idade = 18\n",
        "altura = 1.73\n",
        "print(nome)\n",
        "print(idade)\n",
        "print(altura)"
      ],
      "metadata": {
        "colab": {
          "base_uri": "https://localhost:8080/",
          "height": 0
        },
        "id": "s8kuIWB9sq1I",
        "outputId": "e9fdaf62-7269-4597-e817-5cc453eca5c6"
      },
      "execution_count": 5,
      "outputs": [
        {
          "output_type": "stream",
          "name": "stdout",
          "text": [
            "João\n",
            "18\n",
            "1.73\n"
          ]
        }
      ]
    },
    {
      "cell_type": "code",
      "source": [
        "type(nome)"
      ],
      "metadata": {
        "colab": {
          "base_uri": "https://localhost:8080/",
          "height": 0
        },
        "id": "UFJ7G1hAtHny",
        "outputId": "c7f0c24c-9533-405f-dd09-c8328243ab37"
      },
      "execution_count": 7,
      "outputs": [
        {
          "output_type": "execute_result",
          "data": {
            "text/plain": [
              "str"
            ]
          },
          "metadata": {},
          "execution_count": 7
        }
      ]
    },
    {
      "cell_type": "code",
      "source": [
        "type(idade)"
      ],
      "metadata": {
        "colab": {
          "base_uri": "https://localhost:8080/",
          "height": 0
        },
        "id": "vrhHw3c5tKZm",
        "outputId": "4c660d8c-162a-4708-9e3c-379623a7be3a"
      },
      "execution_count": 8,
      "outputs": [
        {
          "output_type": "execute_result",
          "data": {
            "text/plain": [
              "int"
            ]
          },
          "metadata": {},
          "execution_count": 8
        }
      ]
    },
    {
      "cell_type": "code",
      "source": [
        "type(altura)"
      ],
      "metadata": {
        "colab": {
          "base_uri": "https://localhost:8080/",
          "height": 0
        },
        "id": "J_z0QgvatQoN",
        "outputId": "65614661-8c21-4087-84a5-a0202f41ceda"
      },
      "execution_count": 9,
      "outputs": [
        {
          "output_type": "execute_result",
          "data": {
            "text/plain": [
              "float"
            ]
          },
          "metadata": {},
          "execution_count": 9
        }
      ]
    },
    {
      "cell_type": "code",
      "source": [
        "x = 10\n",
        "type(x)"
      ],
      "metadata": {
        "colab": {
          "base_uri": "https://localhost:8080/",
          "height": 0
        },
        "id": "gKRsFIRPtRLS",
        "outputId": "72416fdb-7c26-43e6-e33a-67e530e718d3"
      },
      "execution_count": 11,
      "outputs": [
        {
          "output_type": "execute_result",
          "data": {
            "text/plain": [
              "int"
            ]
          },
          "metadata": {},
          "execution_count": 11
        }
      ]
    },
    {
      "cell_type": "code",
      "source": [
        "x = 10.5\n",
        "type(x)"
      ],
      "metadata": {
        "colab": {
          "base_uri": "https://localhost:8080/",
          "height": 0
        },
        "id": "9-3LXaQutWNF",
        "outputId": "6ae60ead-befa-4aea-c531-cb064c079584"
      },
      "execution_count": 12,
      "outputs": [
        {
          "output_type": "execute_result",
          "data": {
            "text/plain": [
              "float"
            ]
          },
          "metadata": {},
          "execution_count": 12
        }
      ]
    },
    {
      "cell_type": "markdown",
      "source": [
        "* Recebendo dados do usuário"
      ],
      "metadata": {
        "id": "p4AwcGYUtb9Z"
      }
    },
    {
      "cell_type": "code",
      "source": [
        "nome = input('Digite seu nome: ')\n",
        "idade = input('Digite sua idade: ')\n",
        "altura = input('Digite sua altura: ')"
      ],
      "metadata": {
        "colab": {
          "base_uri": "https://localhost:8080/",
          "height": 0
        },
        "id": "HZAHzTfltYdx",
        "outputId": "f004ebfc-29e5-41be-c2f7-d5a9e58f69f9"
      },
      "execution_count": 13,
      "outputs": [
        {
          "name": "stdout",
          "output_type": "stream",
          "text": [
            "Digite seu nome: Adnan\n",
            "Digite sua idade: 37\n",
            "Digite sua altura: 1.82\n"
          ]
        }
      ]
    },
    {
      "cell_type": "code",
      "source": [
        "nome"
      ],
      "metadata": {
        "colab": {
          "base_uri": "https://localhost:8080/",
          "height": 36
        },
        "id": "P_qQIlF2trEY",
        "outputId": "16f7467d-464c-4963-826e-add6a9864567"
      },
      "execution_count": 14,
      "outputs": [
        {
          "output_type": "execute_result",
          "data": {
            "text/plain": [
              "'Adnan'"
            ],
            "application/vnd.google.colaboratory.intrinsic+json": {
              "type": "string"
            }
          },
          "metadata": {},
          "execution_count": 14
        }
      ]
    },
    {
      "cell_type": "code",
      "source": [
        "idade"
      ],
      "metadata": {
        "colab": {
          "base_uri": "https://localhost:8080/",
          "height": 36
        },
        "id": "9M5n47-xtvRO",
        "outputId": "bc58edd2-3f04-4acf-8dcc-be4b662c77a9"
      },
      "execution_count": 15,
      "outputs": [
        {
          "output_type": "execute_result",
          "data": {
            "text/plain": [
              "'37'"
            ],
            "application/vnd.google.colaboratory.intrinsic+json": {
              "type": "string"
            }
          },
          "metadata": {},
          "execution_count": 15
        }
      ]
    },
    {
      "cell_type": "code",
      "source": [
        "altura"
      ],
      "metadata": {
        "colab": {
          "base_uri": "https://localhost:8080/",
          "height": 36
        },
        "id": "gnHS0sp5twR6",
        "outputId": "cb880fff-079a-42fa-af1b-174f65130879"
      },
      "execution_count": 16,
      "outputs": [
        {
          "output_type": "execute_result",
          "data": {
            "text/plain": [
              "'1.82'"
            ],
            "application/vnd.google.colaboratory.intrinsic+json": {
              "type": "string"
            }
          },
          "metadata": {},
          "execution_count": 16
        }
      ]
    },
    {
      "cell_type": "code",
      "source": [
        "type(idade)"
      ],
      "metadata": {
        "colab": {
          "base_uri": "https://localhost:8080/",
          "height": 0
        },
        "id": "m-Qp8fEKtxIZ",
        "outputId": "c45a6df8-7ee9-4345-84cc-6fbcac2321b8"
      },
      "execution_count": 17,
      "outputs": [
        {
          "output_type": "execute_result",
          "data": {
            "text/plain": [
              "str"
            ]
          },
          "metadata": {},
          "execution_count": 17
        }
      ]
    },
    {
      "cell_type": "code",
      "source": [
        "print(f'Nome: {nome}')\n",
        "print(f'Idade: {idade}')\n",
        "print(f'Altura: {altura}')"
      ],
      "metadata": {
        "colab": {
          "base_uri": "https://localhost:8080/",
          "height": 0
        },
        "id": "Z7Wqe0J-ty-o",
        "outputId": "87d53ca5-e45c-40bc-a963-e95eecc1e87a"
      },
      "execution_count": 18,
      "outputs": [
        {
          "output_type": "stream",
          "name": "stdout",
          "text": [
            "Nome: Adnan\n",
            "Idade: 37\n",
            "Altura: 1.82\n"
          ]
        }
      ]
    },
    {
      "cell_type": "markdown",
      "source": [
        "* Declarando múltiplos valores em uma única linha"
      ],
      "metadata": {
        "id": "RHCtnq2UuNLg"
      }
    },
    {
      "cell_type": "code",
      "source": [
        "x, y, z, w = 10, 15, 20, 30"
      ],
      "metadata": {
        "id": "agXPvt7Pt9q6"
      },
      "execution_count": 19,
      "outputs": []
    },
    {
      "cell_type": "markdown",
      "source": [
        "* Declarando um valor para múltiplas variáveis"
      ],
      "metadata": {
        "id": "zeT5sQ9guWKO"
      }
    },
    {
      "cell_type": "code",
      "source": [
        "x = y = z = 10"
      ],
      "metadata": {
        "id": "XB8D5GviuVBk"
      },
      "execution_count": 20,
      "outputs": []
    },
    {
      "cell_type": "code",
      "source": [
        "print(x, y, z)"
      ],
      "metadata": {
        "colab": {
          "base_uri": "https://localhost:8080/",
          "height": 0
        },
        "id": "5s6tPetXut5K",
        "outputId": "21d103d2-a6e9-4fb3-dd9c-cfc34024931e"
      },
      "execution_count": 21,
      "outputs": [
        {
          "output_type": "stream",
          "name": "stdout",
          "text": [
            "10 10 10\n"
          ]
        }
      ]
    },
    {
      "cell_type": "markdown",
      "source": [
        "# 3. Números"
      ],
      "metadata": {
        "id": "rMugfoIRu3h_"
      }
    },
    {
      "cell_type": "markdown",
      "source": [
        "Tipos númericos:\n",
        "\n",
        "* int\n",
        "* float\n",
        "* complex"
      ],
      "metadata": {
        "id": "Q_8eLVLEvFCH"
      }
    },
    {
      "cell_type": "code",
      "source": [
        "x = 10\n",
        "y = 10.5\n",
        "z = 10+1j\n",
        "print(type(x))\n",
        "print(type(y))\n",
        "print(type(z))"
      ],
      "metadata": {
        "colab": {
          "base_uri": "https://localhost:8080/",
          "height": 0
        },
        "id": "BFyUY5EQuwSt",
        "outputId": "20613312-feea-48ec-e880-1d55044e6d4b"
      },
      "execution_count": 22,
      "outputs": [
        {
          "output_type": "stream",
          "name": "stdout",
          "text": [
            "<class 'int'>\n",
            "<class 'float'>\n",
            "<class 'complex'>\n"
          ]
        }
      ]
    },
    {
      "cell_type": "markdown",
      "source": [
        "* Conversão (casting)"
      ],
      "metadata": {
        "id": "aew1FkozvTt0"
      }
    },
    {
      "cell_type": "code",
      "source": [
        "idade = input('Digite sua idade: ')\n",
        "type(idade)"
      ],
      "metadata": {
        "colab": {
          "base_uri": "https://localhost:8080/"
        },
        "id": "93QpsNHxvSXO",
        "outputId": "23e3151c-9580-4a4e-9f32-213cedbacb33"
      },
      "execution_count": 23,
      "outputs": [
        {
          "name": "stdout",
          "output_type": "stream",
          "text": [
            "Digite sua idade37\n"
          ]
        },
        {
          "output_type": "execute_result",
          "data": {
            "text/plain": [
              "str"
            ]
          },
          "metadata": {},
          "execution_count": 23
        }
      ]
    },
    {
      "cell_type": "code",
      "source": [
        "idade = int(input('Digite sua idade: '))\n",
        "type(idade)"
      ],
      "metadata": {
        "colab": {
          "base_uri": "https://localhost:8080/"
        },
        "id": "hO0lDiko0IDl",
        "outputId": "65008443-3a01-48c8-e2cf-d82bd8ff1dee"
      },
      "execution_count": 25,
      "outputs": [
        {
          "name": "stdout",
          "output_type": "stream",
          "text": [
            "Digite sua idade: 37\n"
          ]
        },
        {
          "output_type": "execute_result",
          "data": {
            "text/plain": [
              "int"
            ]
          },
          "metadata": {},
          "execution_count": 25
        }
      ]
    },
    {
      "cell_type": "code",
      "source": [
        "peso = float(input('Digite seu peso: '))\n",
        "type(peso)"
      ],
      "metadata": {
        "colab": {
          "base_uri": "https://localhost:8080/"
        },
        "id": "lvoM7T3r0MYz",
        "outputId": "7d758d58-c937-4351-d4cb-d73d4b1df30b"
      },
      "execution_count": 26,
      "outputs": [
        {
          "name": "stdout",
          "output_type": "stream",
          "text": [
            "Digite seu peso: 37\n"
          ]
        },
        {
          "output_type": "execute_result",
          "data": {
            "text/plain": [
              "float"
            ]
          },
          "metadata": {},
          "execution_count": 26
        }
      ]
    },
    {
      "cell_type": "code",
      "source": [
        "type(peso)"
      ],
      "metadata": {
        "colab": {
          "base_uri": "https://localhost:8080/"
        },
        "id": "MuzQQBbb0Wdf",
        "outputId": "4fd7003b-f078-4754-cfee-b59e807f175b"
      },
      "execution_count": 27,
      "outputs": [
        {
          "output_type": "execute_result",
          "data": {
            "text/plain": [
              "float"
            ]
          },
          "metadata": {},
          "execution_count": 27
        }
      ]
    },
    {
      "cell_type": "code",
      "source": [
        "numero = '10'\n",
        "print(type(int(numero)))"
      ],
      "metadata": {
        "colab": {
          "base_uri": "https://localhost:8080/"
        },
        "id": "dKYmDeEG2FgS",
        "outputId": "1ba167c0-221d-48d9-cb83-29a701e69555"
      },
      "execution_count": 28,
      "outputs": [
        {
          "output_type": "stream",
          "name": "stdout",
          "text": [
            "<class 'int'>\n"
          ]
        }
      ]
    },
    {
      "cell_type": "code",
      "source": [
        "int(10.5)"
      ],
      "metadata": {
        "colab": {
          "base_uri": "https://localhost:8080/"
        },
        "id": "gRHSzy6a2PM3",
        "outputId": "97f6ded6-19f9-4107-9160-2fbbd90c2d24"
      },
      "execution_count": 29,
      "outputs": [
        {
          "output_type": "execute_result",
          "data": {
            "text/plain": [
              "10"
            ]
          },
          "metadata": {},
          "execution_count": 29
        }
      ]
    },
    {
      "cell_type": "code",
      "source": [
        "numero = float(100)\n",
        "print(type(numero))"
      ],
      "metadata": {
        "colab": {
          "base_uri": "https://localhost:8080/"
        },
        "id": "Y3WWaMyi2SCA",
        "outputId": "1c217618-669c-43d2-ffca-8e67f7910296"
      },
      "execution_count": 30,
      "outputs": [
        {
          "output_type": "stream",
          "name": "stdout",
          "text": [
            "<class 'float'>\n"
          ]
        }
      ]
    },
    {
      "cell_type": "code",
      "source": [
        "int('10')"
      ],
      "metadata": {
        "colab": {
          "base_uri": "https://localhost:8080/"
        },
        "id": "pEy8t0_T2m9h",
        "outputId": "d6f9b3fd-120b-45e5-8c6a-c75f9aa68f6f"
      },
      "execution_count": 31,
      "outputs": [
        {
          "output_type": "execute_result",
          "data": {
            "text/plain": [
              "10"
            ]
          },
          "metadata": {},
          "execution_count": 31
        }
      ]
    },
    {
      "cell_type": "markdown",
      "source": [
        "* Usando o Python como calculadora"
      ],
      "metadata": {
        "id": "zjVAShj-29iH"
      }
    },
    {
      "cell_type": "code",
      "source": [
        "print(10.5+10)"
      ],
      "metadata": {
        "colab": {
          "base_uri": "https://localhost:8080/"
        },
        "id": "kSEIy7By2uPW",
        "outputId": "26019029-2977-4e37-a204-4ef510798ac2"
      },
      "execution_count": 32,
      "outputs": [
        {
          "output_type": "stream",
          "name": "stdout",
          "text": [
            "20.5\n"
          ]
        }
      ]
    },
    {
      "cell_type": "code",
      "source": [
        "print(17.2-5)"
      ],
      "metadata": {
        "colab": {
          "base_uri": "https://localhost:8080/"
        },
        "id": "jV7e9SGR3C_-",
        "outputId": "ff140631-375b-4d6f-ae41-695f1622a38f"
      },
      "execution_count": 33,
      "outputs": [
        {
          "output_type": "stream",
          "name": "stdout",
          "text": [
            "12.2\n"
          ]
        }
      ]
    },
    {
      "cell_type": "code",
      "source": [
        "print(10/5)"
      ],
      "metadata": {
        "colab": {
          "base_uri": "https://localhost:8080/"
        },
        "id": "EwOrH8v-3EZe",
        "outputId": "e570e598-1bfb-4355-f73c-edf2146983f6"
      },
      "execution_count": 34,
      "outputs": [
        {
          "output_type": "stream",
          "name": "stdout",
          "text": [
            "2.0\n"
          ]
        }
      ]
    },
    {
      "cell_type": "code",
      "source": [
        "print(10/3)"
      ],
      "metadata": {
        "colab": {
          "base_uri": "https://localhost:8080/"
        },
        "id": "_2lftR_43Fiw",
        "outputId": "cd37f078-86d2-4f02-e750-e7a915588bc7"
      },
      "execution_count": 35,
      "outputs": [
        {
          "output_type": "stream",
          "name": "stdout",
          "text": [
            "3.3333333333333335\n"
          ]
        }
      ]
    },
    {
      "cell_type": "code",
      "source": [
        "print(10//3)"
      ],
      "metadata": {
        "colab": {
          "base_uri": "https://localhost:8080/"
        },
        "id": "wXc-yAOX3GfH",
        "outputId": "aef16b57-123c-4351-fc9e-f002dca4b7b4"
      },
      "execution_count": 36,
      "outputs": [
        {
          "output_type": "stream",
          "name": "stdout",
          "text": [
            "3\n"
          ]
        }
      ]
    },
    {
      "cell_type": "code",
      "source": [
        "print(8%2)"
      ],
      "metadata": {
        "colab": {
          "base_uri": "https://localhost:8080/"
        },
        "id": "d-_VGNVM3IjG",
        "outputId": "e91079fc-ec0c-4f41-8746-13c7ebf0250b"
      },
      "execution_count": 37,
      "outputs": [
        {
          "output_type": "stream",
          "name": "stdout",
          "text": [
            "0\n"
          ]
        }
      ]
    },
    {
      "cell_type": "code",
      "source": [
        "print(9%2)"
      ],
      "metadata": {
        "colab": {
          "base_uri": "https://localhost:8080/"
        },
        "id": "PvpD3ZZd3mQ1",
        "outputId": "87aa44fa-7aba-4d8f-bb52-98a854e8c209"
      },
      "execution_count": 39,
      "outputs": [
        {
          "output_type": "stream",
          "name": "stdout",
          "text": [
            "1\n"
          ]
        }
      ]
    },
    {
      "cell_type": "code",
      "source": [
        "print(2*82)"
      ],
      "metadata": {
        "colab": {
          "base_uri": "https://localhost:8080/"
        },
        "id": "nXKH_eHt3Msk",
        "outputId": "e5d68197-66be-4366-dac4-775825906c62"
      },
      "execution_count": 38,
      "outputs": [
        {
          "output_type": "stream",
          "name": "stdout",
          "text": [
            "164\n"
          ]
        }
      ]
    },
    {
      "cell_type": "markdown",
      "source": [
        "# 4. Strings"
      ],
      "metadata": {
        "id": "HPKzc5QX3S1O"
      }
    },
    {
      "cell_type": "code",
      "source": [
        "nome = 'UserPython'"
      ],
      "metadata": {
        "id": "kzdWDHrH3Q4g"
      },
      "execution_count": 40,
      "outputs": []
    },
    {
      "cell_type": "code",
      "source": [
        "nome[0]"
      ],
      "metadata": {
        "colab": {
          "base_uri": "https://localhost:8080/",
          "height": 36
        },
        "id": "ew68LwDr-pU4",
        "outputId": "b472ae62-c696-4a17-d18a-26afe20990a5"
      },
      "execution_count": 41,
      "outputs": [
        {
          "output_type": "execute_result",
          "data": {
            "text/plain": [
              "'U'"
            ],
            "application/vnd.google.colaboratory.intrinsic+json": {
              "type": "string"
            }
          },
          "metadata": {},
          "execution_count": 41
        }
      ]
    },
    {
      "cell_type": "code",
      "source": [
        "nome[:2]"
      ],
      "metadata": {
        "colab": {
          "base_uri": "https://localhost:8080/",
          "height": 36
        },
        "id": "kgsIURYn-qIr",
        "outputId": "0645075c-cf5a-4207-abcc-a03f0bb0bd40"
      },
      "execution_count": 42,
      "outputs": [
        {
          "output_type": "execute_result",
          "data": {
            "text/plain": [
              "'Us'"
            ],
            "application/vnd.google.colaboratory.intrinsic+json": {
              "type": "string"
            }
          },
          "metadata": {},
          "execution_count": 42
        }
      ]
    },
    {
      "cell_type": "code",
      "source": [
        "nome[0:4]"
      ],
      "metadata": {
        "colab": {
          "base_uri": "https://localhost:8080/",
          "height": 36
        },
        "id": "uYJBx5Re_Tga",
        "outputId": "ac344490-8266-40d5-a802-e9d95bcef4e8"
      },
      "execution_count": 48,
      "outputs": [
        {
          "output_type": "execute_result",
          "data": {
            "text/plain": [
              "'User'"
            ],
            "application/vnd.google.colaboratory.intrinsic+json": {
              "type": "string"
            }
          },
          "metadata": {},
          "execution_count": 48
        }
      ]
    },
    {
      "cell_type": "code",
      "source": [
        "nome[4:]"
      ],
      "metadata": {
        "colab": {
          "base_uri": "https://localhost:8080/",
          "height": 36
        },
        "id": "2fSeZU2f_eya",
        "outputId": "efd17169-22ca-4c50-ad54-88a261b00b7a"
      },
      "execution_count": 49,
      "outputs": [
        {
          "output_type": "execute_result",
          "data": {
            "text/plain": [
              "'Python'"
            ],
            "application/vnd.google.colaboratory.intrinsic+json": {
              "type": "string"
            }
          },
          "metadata": {},
          "execution_count": 49
        }
      ]
    },
    {
      "cell_type": "code",
      "source": [
        "nome[:4]"
      ],
      "metadata": {
        "colab": {
          "base_uri": "https://localhost:8080/",
          "height": 36
        },
        "id": "1-okYwf4_rvU",
        "outputId": "11d4be3d-4358-43dc-a22b-1fab45066125"
      },
      "execution_count": 50,
      "outputs": [
        {
          "output_type": "execute_result",
          "data": {
            "text/plain": [
              "'User'"
            ],
            "application/vnd.google.colaboratory.intrinsic+json": {
              "type": "string"
            }
          },
          "metadata": {},
          "execution_count": 50
        }
      ]
    },
    {
      "cell_type": "code",
      "source": [
        "len(nome)"
      ],
      "metadata": {
        "colab": {
          "base_uri": "https://localhost:8080/"
        },
        "id": "yYLSJFoZ-rg2",
        "outputId": "e1f35a94-f550-4abc-bfb2-4a9c201b7840"
      },
      "execution_count": 43,
      "outputs": [
        {
          "output_type": "execute_result",
          "data": {
            "text/plain": [
              "10"
            ]
          },
          "metadata": {},
          "execution_count": 43
        }
      ]
    },
    {
      "cell_type": "code",
      "source": [
        "len('Python')"
      ],
      "metadata": {
        "colab": {
          "base_uri": "https://localhost:8080/"
        },
        "id": "pG537SiL_-ij",
        "outputId": "509fe442-a3d3-4ea1-c3bb-f6c35b688147"
      },
      "execution_count": 51,
      "outputs": [
        {
          "output_type": "execute_result",
          "data": {
            "text/plain": [
              "6"
            ]
          },
          "metadata": {},
          "execution_count": 51
        }
      ]
    },
    {
      "cell_type": "code",
      "source": [
        "a = 'Python World'\n",
        "'Python' in a"
      ],
      "metadata": {
        "colab": {
          "base_uri": "https://localhost:8080/"
        },
        "id": "xd9PMbDQACiL",
        "outputId": "2b08df5f-c54e-45cf-f522-10ac59a44b6b"
      },
      "execution_count": 52,
      "outputs": [
        {
          "output_type": "execute_result",
          "data": {
            "text/plain": [
              "True"
            ]
          },
          "metadata": {},
          "execution_count": 52
        }
      ]
    },
    {
      "cell_type": "code",
      "source": [
        "'Javascript' in a"
      ],
      "metadata": {
        "colab": {
          "base_uri": "https://localhost:8080/"
        },
        "id": "wAbqsjsbAPvD",
        "outputId": "072623ea-83b9-465d-f017-c33f87eab60d"
      },
      "execution_count": 53,
      "outputs": [
        {
          "output_type": "execute_result",
          "data": {
            "text/plain": [
              "False"
            ]
          },
          "metadata": {},
          "execution_count": 53
        }
      ]
    },
    {
      "cell_type": "code",
      "source": [
        "nome not in 'userPython UserPython'"
      ],
      "metadata": {
        "colab": {
          "base_uri": "https://localhost:8080/"
        },
        "id": "oqLSPIDP-tgg",
        "outputId": "9716455b-afad-4649-fe9c-8cd1fd074060"
      },
      "execution_count": 44,
      "outputs": [
        {
          "output_type": "execute_result",
          "data": {
            "text/plain": [
              "False"
            ]
          },
          "metadata": {},
          "execution_count": 44
        }
      ]
    },
    {
      "cell_type": "code",
      "source": [
        "nome in 'userPython UserPython'"
      ],
      "metadata": {
        "colab": {
          "base_uri": "https://localhost:8080/"
        },
        "id": "5Lj1uyDTAZmk",
        "outputId": "a895227a-3c5b-464b-b448-41f7833725db"
      },
      "execution_count": 54,
      "outputs": [
        {
          "output_type": "execute_result",
          "data": {
            "text/plain": [
              "True"
            ]
          },
          "metadata": {},
          "execution_count": 54
        }
      ]
    },
    {
      "cell_type": "code",
      "source": [
        "nome.lower()"
      ],
      "metadata": {
        "colab": {
          "base_uri": "https://localhost:8080/",
          "height": 36
        },
        "id": "Imxe_ZsQ-xNy",
        "outputId": "5b6056b9-a74b-4198-9d6d-471e3034aa0e"
      },
      "execution_count": 45,
      "outputs": [
        {
          "output_type": "execute_result",
          "data": {
            "text/plain": [
              "'userpython'"
            ],
            "application/vnd.google.colaboratory.intrinsic+json": {
              "type": "string"
            }
          },
          "metadata": {},
          "execution_count": 45
        }
      ]
    },
    {
      "cell_type": "code",
      "source": [
        "nome.upper()"
      ],
      "metadata": {
        "colab": {
          "base_uri": "https://localhost:8080/",
          "height": 36
        },
        "id": "grhQirat-z_9",
        "outputId": "a6a13e5a-aee2-40fd-e0d5-8b1dea5930e4"
      },
      "execution_count": 46,
      "outputs": [
        {
          "output_type": "execute_result",
          "data": {
            "text/plain": [
              "'USERPYTHON'"
            ],
            "application/vnd.google.colaboratory.intrinsic+json": {
              "type": "string"
            }
          },
          "metadata": {},
          "execution_count": 46
        }
      ]
    },
    {
      "cell_type": "code",
      "source": [
        "ling = ' Python'\n",
        "ling.strip()"
      ],
      "metadata": {
        "colab": {
          "base_uri": "https://localhost:8080/",
          "height": 36
        },
        "id": "NzvP3o04-1ph",
        "outputId": "83c1a9bf-be29-4b54-a318-edb07a8c8e85"
      },
      "execution_count": 55,
      "outputs": [
        {
          "output_type": "execute_result",
          "data": {
            "text/plain": [
              "'Python'"
            ],
            "application/vnd.google.colaboratory.intrinsic+json": {
              "type": "string"
            }
          },
          "metadata": {},
          "execution_count": 55
        }
      ]
    },
    {
      "cell_type": "code",
      "source": [
        "linguagem = input('Digite sua linguagem de programação: ')"
      ],
      "metadata": {
        "colab": {
          "base_uri": "https://localhost:8080/"
        },
        "id": "eYKnzIV5BGKp",
        "outputId": "e4da9054-810b-4f50-e11f-d23283167bf7"
      },
      "execution_count": 60,
      "outputs": [
        {
          "name": "stdout",
          "output_type": "stream",
          "text": [
            "Digite sua linguagem de programação:      Python     \n"
          ]
        }
      ]
    },
    {
      "cell_type": "code",
      "source": [
        "linguagem"
      ],
      "metadata": {
        "colab": {
          "base_uri": "https://localhost:8080/",
          "height": 36
        },
        "id": "7KYzd3kdBOA-",
        "outputId": "1995cf94-0764-4c9f-ab65-c2b4a2e615eb"
      },
      "execution_count": 62,
      "outputs": [
        {
          "output_type": "execute_result",
          "data": {
            "text/plain": [
              "'     Python     '"
            ],
            "application/vnd.google.colaboratory.intrinsic+json": {
              "type": "string"
            }
          },
          "metadata": {},
          "execution_count": 62
        }
      ]
    },
    {
      "cell_type": "code",
      "source": [
        "linguagem.strip()"
      ],
      "metadata": {
        "colab": {
          "base_uri": "https://localhost:8080/",
          "height": 36
        },
        "id": "ti6AyaR9BSXj",
        "outputId": "cb5dd7bf-eb91-445f-cd74-5bbd98a27b4d"
      },
      "execution_count": 63,
      "outputs": [
        {
          "output_type": "execute_result",
          "data": {
            "text/plain": [
              "'Python'"
            ],
            "application/vnd.google.colaboratory.intrinsic+json": {
              "type": "string"
            }
          },
          "metadata": {},
          "execution_count": 63
        }
      ]
    },
    {
      "cell_type": "code",
      "source": [
        "nome = ' joão carlos da silva'\n",
        "nome.title()"
      ],
      "metadata": {
        "colab": {
          "base_uri": "https://localhost:8080/",
          "height": 36
        },
        "id": "eNumKBt-AkQ5",
        "outputId": "0e6a13c2-adc8-4402-974b-5c977ba8a893"
      },
      "execution_count": 61,
      "outputs": [
        {
          "output_type": "execute_result",
          "data": {
            "text/plain": [
              "' João Carlos Da Silva'"
            ],
            "application/vnd.google.colaboratory.intrinsic+json": {
              "type": "string"
            }
          },
          "metadata": {},
          "execution_count": 61
        }
      ]
    },
    {
      "cell_type": "code",
      "source": [
        "nome.strip().title()"
      ],
      "metadata": {
        "colab": {
          "base_uri": "https://localhost:8080/",
          "height": 36
        },
        "id": "lu6LyqUKAmnz",
        "outputId": "ecb8c8a8-220b-4ce5-9da7-be20d2a78ba4"
      },
      "execution_count": 58,
      "outputs": [
        {
          "output_type": "execute_result",
          "data": {
            "text/plain": [
              "'João Carlos Da Silva'"
            ],
            "application/vnd.google.colaboratory.intrinsic+json": {
              "type": "string"
            }
          },
          "metadata": {},
          "execution_count": 58
        }
      ]
    },
    {
      "cell_type": "code",
      "source": [
        "nome.index('j')"
      ],
      "metadata": {
        "colab": {
          "base_uri": "https://localhost:8080/"
        },
        "id": "6Iu494q8AswH",
        "outputId": "06ab1a4c-6111-4f83-ca70-89fc37f5069e"
      },
      "execution_count": 59,
      "outputs": [
        {
          "output_type": "execute_result",
          "data": {
            "text/plain": [
              "1"
            ]
          },
          "metadata": {},
          "execution_count": 59
        }
      ]
    },
    {
      "cell_type": "markdown",
      "source": [
        "# 5. Operadores\n",
        "\n",
        "* Vimos anteriormente os operadores aritméticos.\n",
        "\n",
        "Operadores de comparação (==, !=, >=, <=, >, <)"
      ],
      "metadata": {
        "id": "FU2ZR8ZxB0fp"
      }
    },
    {
      "cell_type": "code",
      "source": [
        "10 == 10"
      ],
      "metadata": {
        "colab": {
          "base_uri": "https://localhost:8080/"
        },
        "id": "gs1OF_ARAvzH",
        "outputId": "b74d8516-fdfa-4a42-8fca-6e5ca10e719d"
      },
      "execution_count": 64,
      "outputs": [
        {
          "output_type": "execute_result",
          "data": {
            "text/plain": [
              "True"
            ]
          },
          "metadata": {},
          "execution_count": 64
        }
      ]
    },
    {
      "cell_type": "code",
      "source": [
        "10 != 10"
      ],
      "metadata": {
        "colab": {
          "base_uri": "https://localhost:8080/"
        },
        "id": "Z9B5jKjsCCVZ",
        "outputId": "a42860bf-bed8-4d2d-f504-344d028c2967"
      },
      "execution_count": 65,
      "outputs": [
        {
          "output_type": "execute_result",
          "data": {
            "text/plain": [
              "False"
            ]
          },
          "metadata": {},
          "execution_count": 65
        }
      ]
    },
    {
      "cell_type": "code",
      "source": [
        "10 != 2"
      ],
      "metadata": {
        "colab": {
          "base_uri": "https://localhost:8080/"
        },
        "id": "n1YcizSUCErY",
        "outputId": "1ab32c43-cf81-4a1a-b8b3-2d80e2893ee9"
      },
      "execution_count": 66,
      "outputs": [
        {
          "output_type": "execute_result",
          "data": {
            "text/plain": [
              "True"
            ]
          },
          "metadata": {},
          "execution_count": 66
        }
      ]
    },
    {
      "cell_type": "code",
      "source": [
        "10 >= 10"
      ],
      "metadata": {
        "colab": {
          "base_uri": "https://localhost:8080/"
        },
        "id": "8M4SHI8ICN0V",
        "outputId": "a1e375ce-133a-4d9b-b6d2-7d662bbb1236"
      },
      "execution_count": 67,
      "outputs": [
        {
          "output_type": "execute_result",
          "data": {
            "text/plain": [
              "True"
            ]
          },
          "metadata": {},
          "execution_count": 67
        }
      ]
    },
    {
      "cell_type": "code",
      "source": [
        "10 <= 10"
      ],
      "metadata": {
        "colab": {
          "base_uri": "https://localhost:8080/"
        },
        "id": "koH2t6AlCO_R",
        "outputId": "97bcc356-8fa3-4dbf-9cd4-50e59e2d483b"
      },
      "execution_count": 68,
      "outputs": [
        {
          "output_type": "execute_result",
          "data": {
            "text/plain": [
              "True"
            ]
          },
          "metadata": {},
          "execution_count": 68
        }
      ]
    },
    {
      "cell_type": "code",
      "source": [
        "10 < 10"
      ],
      "metadata": {
        "colab": {
          "base_uri": "https://localhost:8080/"
        },
        "id": "myT0WaxFEIGb",
        "outputId": "06c5efd0-519f-463a-d182-e63752940bb3"
      },
      "execution_count": 69,
      "outputs": [
        {
          "output_type": "execute_result",
          "data": {
            "text/plain": [
              "False"
            ]
          },
          "metadata": {},
          "execution_count": 69
        }
      ]
    },
    {
      "cell_type": "code",
      "source": [
        "string1 = 'Python'\n",
        "string2 = 'JavaScript'\n",
        "resultado = len(string1)<len(string2)\n",
        "print(resultado)"
      ],
      "metadata": {
        "colab": {
          "base_uri": "https://localhost:8080/"
        },
        "id": "3IOBJWGUEJHs",
        "outputId": "1e49ee0f-ff0b-4a69-a6d4-3460bd34c23c"
      },
      "execution_count": 70,
      "outputs": [
        {
          "output_type": "stream",
          "name": "stdout",
          "text": [
            "True\n"
          ]
        }
      ]
    },
    {
      "cell_type": "markdown",
      "source": [
        "* Operadores Lógicos"
      ],
      "metadata": {
        "id": "742X2WXeET-s"
      }
    },
    {
      "cell_type": "code",
      "source": [
        "x = 10"
      ],
      "metadata": {
        "id": "_FO2L0eoEQwV"
      },
      "execution_count": 71,
      "outputs": []
    },
    {
      "cell_type": "code",
      "source": [
        "(x<20) and (x>2)"
      ],
      "metadata": {
        "colab": {
          "base_uri": "https://localhost:8080/"
        },
        "id": "skYRfBbJE1kY",
        "outputId": "9311acfc-f7fc-49e2-d284-07147acbf5d0"
      },
      "execution_count": 72,
      "outputs": [
        {
          "output_type": "execute_result",
          "data": {
            "text/plain": [
              "True"
            ]
          },
          "metadata": {},
          "execution_count": 72
        }
      ]
    },
    {
      "cell_type": "code",
      "source": [
        "(x!=10) or (x>2)"
      ],
      "metadata": {
        "colab": {
          "base_uri": "https://localhost:8080/"
        },
        "id": "jgBaq4aPE5hV",
        "outputId": "20a6dc1b-8a9e-44d2-9378-2bf142501afa"
      },
      "execution_count": 73,
      "outputs": [
        {
          "output_type": "execute_result",
          "data": {
            "text/plain": [
              "True"
            ]
          },
          "metadata": {},
          "execution_count": 73
        }
      ]
    },
    {
      "cell_type": "markdown",
      "source": [
        "Tabela 'and'\n",
        "* VV = V\n",
        "* VF = F\n",
        "* FV = F\n",
        "* FF = F"
      ],
      "metadata": {
        "id": "DsZoKL-VFIkf"
      }
    },
    {
      "cell_type": "markdown",
      "source": [],
      "metadata": {
        "id": "Q0ZghGn0FIcM"
      }
    },
    {
      "cell_type": "code",
      "source": [
        "True and True"
      ],
      "metadata": {
        "colab": {
          "base_uri": "https://localhost:8080/"
        },
        "id": "lHjufF-ZF5oR",
        "outputId": "cf9848fc-8b54-4aa4-cdb1-b74cdc5f66ac"
      },
      "execution_count": 76,
      "outputs": [
        {
          "output_type": "execute_result",
          "data": {
            "text/plain": [
              "True"
            ]
          },
          "metadata": {},
          "execution_count": 76
        }
      ]
    },
    {
      "cell_type": "code",
      "source": [
        "True and False"
      ],
      "metadata": {
        "colab": {
          "base_uri": "https://localhost:8080/"
        },
        "id": "_tAM26K0F9VF",
        "outputId": "ae0f7663-d131-4dca-9a34-99a9c9499e8a"
      },
      "execution_count": 77,
      "outputs": [
        {
          "output_type": "execute_result",
          "data": {
            "text/plain": [
              "False"
            ]
          },
          "metadata": {},
          "execution_count": 77
        }
      ]
    },
    {
      "cell_type": "code",
      "source": [
        "False and True"
      ],
      "metadata": {
        "colab": {
          "base_uri": "https://localhost:8080/"
        },
        "id": "Bi5-YdTlF9E_",
        "outputId": "70a7a5cd-c75b-4663-bff7-ef8b40e842b4"
      },
      "execution_count": 78,
      "outputs": [
        {
          "output_type": "execute_result",
          "data": {
            "text/plain": [
              "False"
            ]
          },
          "metadata": {},
          "execution_count": 78
        }
      ]
    },
    {
      "cell_type": "code",
      "source": [
        "False and False"
      ],
      "metadata": {
        "colab": {
          "base_uri": "https://localhost:8080/"
        },
        "id": "IzcqobAFF8qb",
        "outputId": "9cecc092-4cf3-47eb-c88d-f64a4e33131c"
      },
      "execution_count": 79,
      "outputs": [
        {
          "output_type": "execute_result",
          "data": {
            "text/plain": [
              "False"
            ]
          },
          "metadata": {},
          "execution_count": 79
        }
      ]
    },
    {
      "cell_type": "markdown",
      "source": [
        "Tabela 'or'\n",
        "* VV = V\n",
        "* VF = V\n",
        "* FV = V\n",
        "* FF = F"
      ],
      "metadata": {
        "id": "zPJG9LrfFiEv"
      }
    },
    {
      "cell_type": "code",
      "source": [
        "True or True"
      ],
      "metadata": {
        "colab": {
          "base_uri": "https://localhost:8080/"
        },
        "id": "Mo8FiVgUF1Co",
        "outputId": "e45ba14f-c2ba-4777-913b-0122f4917775"
      },
      "execution_count": 80,
      "outputs": [
        {
          "output_type": "execute_result",
          "data": {
            "text/plain": [
              "True"
            ]
          },
          "metadata": {},
          "execution_count": 80
        }
      ]
    },
    {
      "cell_type": "code",
      "source": [
        "True or False"
      ],
      "metadata": {
        "colab": {
          "base_uri": "https://localhost:8080/"
        },
        "id": "5cLMsgiJGDX-",
        "outputId": "bd14f810-1035-4578-a63c-0e844c78f6a4"
      },
      "execution_count": 81,
      "outputs": [
        {
          "output_type": "execute_result",
          "data": {
            "text/plain": [
              "True"
            ]
          },
          "metadata": {},
          "execution_count": 81
        }
      ]
    },
    {
      "cell_type": "code",
      "source": [
        "False or True"
      ],
      "metadata": {
        "colab": {
          "base_uri": "https://localhost:8080/"
        },
        "id": "uUH4Xh1AGF37",
        "outputId": "27c34c61-32e1-44d4-c784-11bbd8efbfa6"
      },
      "execution_count": 82,
      "outputs": [
        {
          "output_type": "execute_result",
          "data": {
            "text/plain": [
              "True"
            ]
          },
          "metadata": {},
          "execution_count": 82
        }
      ]
    },
    {
      "cell_type": "code",
      "source": [
        "False or False"
      ],
      "metadata": {
        "colab": {
          "base_uri": "https://localhost:8080/"
        },
        "id": "FBtHNGnTGHNg",
        "outputId": "a9c8a6f5-ff80-4ac9-945d-2156827b0023"
      },
      "execution_count": 83,
      "outputs": [
        {
          "output_type": "execute_result",
          "data": {
            "text/plain": [
              "False"
            ]
          },
          "metadata": {},
          "execution_count": 83
        }
      ]
    },
    {
      "cell_type": "markdown",
      "source": [
        "# 6. Listas\n",
        "\n",
        "* As listas podem ser utilizadas para armazenar valores. Esses valores podem ser strings, tuplas, outras listas, dicionários, dentre outros."
      ],
      "metadata": {
        "id": "lS1dICF3GUfl"
      }
    },
    {
      "cell_type": "code",
      "source": [
        "lista1 = [10, 20, 30, 40]"
      ],
      "metadata": {
        "id": "Z_5uJuE7GJZe"
      },
      "execution_count": 87,
      "outputs": []
    },
    {
      "cell_type": "code",
      "source": [
        "lista1"
      ],
      "metadata": {
        "colab": {
          "base_uri": "https://localhost:8080/"
        },
        "id": "0A8JUxhCGwBx",
        "outputId": "525b444c-ea40-4b34-ae75-ff9c686d1b32"
      },
      "execution_count": 88,
      "outputs": [
        {
          "output_type": "execute_result",
          "data": {
            "text/plain": [
              "[10, 20, 30, 40]"
            ]
          },
          "metadata": {},
          "execution_count": 88
        }
      ]
    },
    {
      "cell_type": "code",
      "source": [
        "lista = [1, 2, 3, 4]\n",
        "print(lista)"
      ],
      "metadata": {
        "colab": {
          "base_uri": "https://localhost:8080/"
        },
        "id": "NliEKWDdGzYC",
        "outputId": "9aefa318-33f3-48d4-a4b5-52e1225a4b02"
      },
      "execution_count": 89,
      "outputs": [
        {
          "output_type": "stream",
          "name": "stdout",
          "text": [
            "[1, 2, 3, 4]\n"
          ]
        }
      ]
    },
    {
      "cell_type": "code",
      "source": [
        "lista2 = ['hello world', 10, 29, 30, [1, 2, 3], (45, 50), True, False]"
      ],
      "metadata": {
        "id": "HaAtpyUzGkh9"
      },
      "execution_count": 90,
      "outputs": []
    },
    {
      "cell_type": "code",
      "source": [
        "type(lista1)"
      ],
      "metadata": {
        "colab": {
          "base_uri": "https://localhost:8080/"
        },
        "id": "M5qaYPyiGqzL",
        "outputId": "932e3eb1-d7ce-415a-d318-c53f921506e0"
      },
      "execution_count": 86,
      "outputs": [
        {
          "output_type": "execute_result",
          "data": {
            "text/plain": [
              "list"
            ]
          },
          "metadata": {},
          "execution_count": 86
        }
      ]
    },
    {
      "cell_type": "markdown",
      "source": [
        "* Acessando elementos de uma lista via índice"
      ],
      "metadata": {
        "id": "ycXqCQpVHD3w"
      }
    },
    {
      "cell_type": "code",
      "source": [
        "lista = ['A', 'B', 'C']"
      ],
      "metadata": {
        "id": "4dSnM4JpGtIB"
      },
      "execution_count": 91,
      "outputs": []
    },
    {
      "cell_type": "code",
      "source": [
        "lista[0]"
      ],
      "metadata": {
        "colab": {
          "base_uri": "https://localhost:8080/",
          "height": 36
        },
        "id": "9g-8zUlBHI6Y",
        "outputId": "62628971-06af-4bbf-8a88-900a82ff24da"
      },
      "execution_count": 92,
      "outputs": [
        {
          "output_type": "execute_result",
          "data": {
            "text/plain": [
              "'A'"
            ],
            "application/vnd.google.colaboratory.intrinsic+json": {
              "type": "string"
            }
          },
          "metadata": {},
          "execution_count": 92
        }
      ]
    },
    {
      "cell_type": "code",
      "source": [
        "lista[1]"
      ],
      "metadata": {
        "colab": {
          "base_uri": "https://localhost:8080/",
          "height": 36
        },
        "id": "bJGM8-T2HY16",
        "outputId": "bc1cb973-dd9b-452a-f881-319b8993cf61"
      },
      "execution_count": 93,
      "outputs": [
        {
          "output_type": "execute_result",
          "data": {
            "text/plain": [
              "'B'"
            ],
            "application/vnd.google.colaboratory.intrinsic+json": {
              "type": "string"
            }
          },
          "metadata": {},
          "execution_count": 93
        }
      ]
    },
    {
      "cell_type": "markdown",
      "source": [
        "* Modificação dos elementos de uma lista"
      ],
      "metadata": {
        "id": "zl54_3TuHfKY"
      }
    },
    {
      "cell_type": "code",
      "source": [
        "lista[0] = 'Z'"
      ],
      "metadata": {
        "id": "mOuvH9TjHdeg"
      },
      "execution_count": 94,
      "outputs": []
    },
    {
      "cell_type": "code",
      "source": [
        "lista"
      ],
      "metadata": {
        "colab": {
          "base_uri": "https://localhost:8080/"
        },
        "id": "iY2Vfu-CHjRv",
        "outputId": "0efe1814-42f0-4a7a-e11c-e7d36817e8bb"
      },
      "execution_count": 95,
      "outputs": [
        {
          "output_type": "execute_result",
          "data": {
            "text/plain": [
              "['Z', 'B', 'C']"
            ]
          },
          "metadata": {},
          "execution_count": 95
        }
      ]
    },
    {
      "cell_type": "markdown",
      "source": [
        "* Outra forma de indexação"
      ],
      "metadata": {
        "id": "0SDInpc-HnFh"
      }
    },
    {
      "cell_type": "code",
      "source": [
        "b = ['a', 'c', 'd', 'h']"
      ],
      "metadata": {
        "id": "ucounEYcHkxv"
      },
      "execution_count": 97,
      "outputs": []
    },
    {
      "cell_type": "code",
      "source": [
        "b[-1]"
      ],
      "metadata": {
        "colab": {
          "base_uri": "https://localhost:8080/",
          "height": 36
        },
        "id": "8lgRkWWIHr2S",
        "outputId": "76e6bbd1-593d-4796-94b3-60bf90c8db95"
      },
      "execution_count": 98,
      "outputs": [
        {
          "output_type": "execute_result",
          "data": {
            "text/plain": [
              "'h'"
            ],
            "application/vnd.google.colaboratory.intrinsic+json": {
              "type": "string"
            }
          },
          "metadata": {},
          "execution_count": 98
        }
      ]
    },
    {
      "cell_type": "code",
      "source": [
        "b[-2]"
      ],
      "metadata": {
        "colab": {
          "base_uri": "https://localhost:8080/",
          "height": 36
        },
        "id": "UtAFKRVCINOb",
        "outputId": "a5a63996-cfbf-4e19-fb12-c368564b9875"
      },
      "execution_count": 99,
      "outputs": [
        {
          "output_type": "execute_result",
          "data": {
            "text/plain": [
              "'d'"
            ],
            "application/vnd.google.colaboratory.intrinsic+json": {
              "type": "string"
            }
          },
          "metadata": {},
          "execution_count": 99
        }
      ]
    },
    {
      "cell_type": "code",
      "source": [
        "b[-3]"
      ],
      "metadata": {
        "colab": {
          "base_uri": "https://localhost:8080/",
          "height": 36
        },
        "id": "Z0rFT1OHIPo5",
        "outputId": "a4ecb9ba-378d-4208-f8f8-e4afcc63f5b1"
      },
      "execution_count": 100,
      "outputs": [
        {
          "output_type": "execute_result",
          "data": {
            "text/plain": [
              "'c'"
            ],
            "application/vnd.google.colaboratory.intrinsic+json": {
              "type": "string"
            }
          },
          "metadata": {},
          "execution_count": 100
        }
      ]
    },
    {
      "cell_type": "code",
      "source": [
        "b[-4]"
      ],
      "metadata": {
        "colab": {
          "base_uri": "https://localhost:8080/",
          "height": 36
        },
        "id": "BK4hEmFsIRYN",
        "outputId": "ef3f2bf4-0125-4984-be5b-32ef5d7f28d6"
      },
      "execution_count": 101,
      "outputs": [
        {
          "output_type": "execute_result",
          "data": {
            "text/plain": [
              "'a'"
            ],
            "application/vnd.google.colaboratory.intrinsic+json": {
              "type": "string"
            }
          },
          "metadata": {},
          "execution_count": 101
        }
      ]
    },
    {
      "cell_type": "markdown",
      "source": [
        "Então, podemos acessar os elementos de uma lista de forma contrária (indexação negativa), do fim para o início. Na nossa lista b teríamos o seguinte:\n",
        "\n",
        "* 'h' - indice -1\n",
        "* 'd' - indice -2\n",
        "* 'c' - indice -3\n",
        "* 'a' - indice -4"
      ],
      "metadata": {
        "id": "teF8_KK7H0oZ"
      }
    },
    {
      "cell_type": "markdown",
      "source": [
        "* Máximo, mínimo, soma e tamanho de uma lista"
      ],
      "metadata": {
        "id": "2h-J2hRdIeOj"
      }
    },
    {
      "cell_type": "code",
      "source": [
        "num = [31, 914, 236, 376, 140, 705]"
      ],
      "metadata": {
        "id": "M7LGujDuHwru"
      },
      "execution_count": 102,
      "outputs": []
    },
    {
      "cell_type": "code",
      "source": [
        "max(num)"
      ],
      "metadata": {
        "colab": {
          "base_uri": "https://localhost:8080/"
        },
        "id": "5K6KqxD7IlGC",
        "outputId": "cab341d4-b37f-4c38-f10a-a31d70cd29e6"
      },
      "execution_count": 103,
      "outputs": [
        {
          "output_type": "execute_result",
          "data": {
            "text/plain": [
              "914"
            ]
          },
          "metadata": {},
          "execution_count": 103
        }
      ]
    },
    {
      "cell_type": "code",
      "source": [
        "min(num)"
      ],
      "metadata": {
        "colab": {
          "base_uri": "https://localhost:8080/"
        },
        "id": "Rx0yMDW_Il9x",
        "outputId": "f1700dc7-28b8-4861-a58c-8933ed4dc53e"
      },
      "execution_count": 104,
      "outputs": [
        {
          "output_type": "execute_result",
          "data": {
            "text/plain": [
              "31"
            ]
          },
          "metadata": {},
          "execution_count": 104
        }
      ]
    },
    {
      "cell_type": "code",
      "source": [
        "len(num)"
      ],
      "metadata": {
        "colab": {
          "base_uri": "https://localhost:8080/"
        },
        "id": "4ywUaQXjImue",
        "outputId": "a1ff95b0-9aa0-40c6-ee88-39688adfd6f3"
      },
      "execution_count": 105,
      "outputs": [
        {
          "output_type": "execute_result",
          "data": {
            "text/plain": [
              "6"
            ]
          },
          "metadata": {},
          "execution_count": 105
        }
      ]
    },
    {
      "cell_type": "code",
      "source": [
        "sum(num)"
      ],
      "metadata": {
        "colab": {
          "base_uri": "https://localhost:8080/"
        },
        "id": "pltWYtLzInZm",
        "outputId": "63088be2-8942-44e8-9a36-4a8dd92968ba"
      },
      "execution_count": 106,
      "outputs": [
        {
          "output_type": "execute_result",
          "data": {
            "text/plain": [
              "2402"
            ]
          },
          "metadata": {},
          "execution_count": 106
        }
      ]
    },
    {
      "cell_type": "code",
      "source": [
        "media = sum(num)/len(num)"
      ],
      "metadata": {
        "id": "-4WiABPfJI7x"
      },
      "execution_count": 108,
      "outputs": []
    },
    {
      "cell_type": "code",
      "source": [
        "media"
      ],
      "metadata": {
        "colab": {
          "base_uri": "https://localhost:8080/"
        },
        "id": "3qe8yurTJO83",
        "outputId": "5d92c477-2ffb-4547-d585-3fc399162acd"
      },
      "execution_count": 109,
      "outputs": [
        {
          "output_type": "execute_result",
          "data": {
            "text/plain": [
              "400.3333333333333"
            ]
          },
          "metadata": {},
          "execution_count": 109
        }
      ]
    },
    {
      "cell_type": "code",
      "source": [
        "print(f'Valor máximo: {max(num)}')\n",
        "print(f'Valor mínimo: {min(num)}')\n",
        "print(f'Números dos elementos {len(num)}')\n",
        "print(f'Soma dos elementos: {sum(num)}')"
      ],
      "metadata": {
        "colab": {
          "base_uri": "https://localhost:8080/"
        },
        "id": "NL9PPz-rIoNr",
        "outputId": "8d0275cb-e69e-4f95-a1e1-0b2a4c7249ee"
      },
      "execution_count": 107,
      "outputs": [
        {
          "output_type": "stream",
          "name": "stdout",
          "text": [
            "Valor máximo: 914\n",
            "Valor mínimo: 31\n",
            "Números dos elementos 6\n",
            "Soma dos elementos: 2402\n"
          ]
        }
      ]
    },
    {
      "cell_type": "markdown",
      "source": [
        "* Como unir listas"
      ],
      "metadata": {
        "id": "TaLlBVJcJVJV"
      }
    },
    {
      "cell_type": "code",
      "source": [
        "lista1 = ['a', 'b', 'c']\n",
        "lista2 = ['d', 'e', 'f', 'g']\n",
        "uniao = lista1+lista2\n",
        "print(uniao)"
      ],
      "metadata": {
        "colab": {
          "base_uri": "https://localhost:8080/"
        },
        "id": "rWjJkKA2I24E",
        "outputId": "07bdab61-01f3-47c3-d06d-64c58e17ed14"
      },
      "execution_count": 110,
      "outputs": [
        {
          "output_type": "stream",
          "name": "stdout",
          "text": [
            "['a', 'b', 'c', 'd', 'e', 'f', 'g']\n"
          ]
        }
      ]
    },
    {
      "cell_type": "code",
      "source": [],
      "metadata": {
        "id": "hCwKhVWmJgvG"
      },
      "execution_count": null,
      "outputs": []
    },
    {
      "cell_type": "markdown",
      "source": [
        "* Repetindo elementos"
      ],
      "metadata": {
        "id": "YQFYQ1fqJh6z"
      }
    },
    {
      "cell_type": "code",
      "source": [
        "h = [0, 1, 2]\n",
        "h*4"
      ],
      "metadata": {
        "colab": {
          "base_uri": "https://localhost:8080/"
        },
        "id": "1lGYQZHGJjp1",
        "outputId": "ae747883-860d-40a9-aea1-fc91d278dc41"
      },
      "execution_count": 112,
      "outputs": [
        {
          "output_type": "execute_result",
          "data": {
            "text/plain": [
              "[0, 1, 2, 0, 1, 2, 0, 1, 2, 0, 1, 2]"
            ]
          },
          "metadata": {},
          "execution_count": 112
        }
      ]
    },
    {
      "cell_type": "code",
      "source": [
        "string = 'Python '\n",
        "string*4"
      ],
      "metadata": {
        "colab": {
          "base_uri": "https://localhost:8080/",
          "height": 36
        },
        "id": "HbfYhYHKJmgr",
        "outputId": "29238ce0-02ce-4c5f-b9cd-2f38682c020f"
      },
      "execution_count": 113,
      "outputs": [
        {
          "output_type": "execute_result",
          "data": {
            "text/plain": [
              "'Python Python Python Python '"
            ],
            "application/vnd.google.colaboratory.intrinsic+json": {
              "type": "string"
            }
          },
          "metadata": {},
          "execution_count": 113
        }
      ]
    },
    {
      "cell_type": "markdown",
      "source": [
        "* Construir list()"
      ],
      "metadata": {
        "id": "YgWhzy4HJtm_"
      }
    },
    {
      "cell_type": "code",
      "source": [
        "tupla = (1, 2, 3, 4, 5)\n",
        "lista = list(tupla)"
      ],
      "metadata": {
        "id": "-acmPxHdJsJ0"
      },
      "execution_count": 114,
      "outputs": []
    },
    {
      "cell_type": "code",
      "source": [
        "type(tupla)"
      ],
      "metadata": {
        "colab": {
          "base_uri": "https://localhost:8080/"
        },
        "id": "38h4LbhpLZO7",
        "outputId": "80a6697e-7fe0-4d07-b7ac-1e09e1f459fe"
      },
      "execution_count": 116,
      "outputs": [
        {
          "output_type": "execute_result",
          "data": {
            "text/plain": [
              "tuple"
            ]
          },
          "metadata": {},
          "execution_count": 116
        }
      ]
    },
    {
      "cell_type": "code",
      "source": [
        "type(lista)"
      ],
      "metadata": {
        "colab": {
          "base_uri": "https://localhost:8080/"
        },
        "id": "5TuRKQzqLbkO",
        "outputId": "d9277103-49df-4d0a-c797-2f91284508ba"
      },
      "execution_count": 117,
      "outputs": [
        {
          "output_type": "execute_result",
          "data": {
            "text/plain": [
              "list"
            ]
          },
          "metadata": {},
          "execution_count": 117
        }
      ]
    },
    {
      "cell_type": "markdown",
      "source": [
        "Podemos criar uma lista com uma frequência de números inteiros por meio da função embutida range().\n",
        "\n",
        "* Sintaxe: range(inicio, fim, passo)"
      ],
      "metadata": {
        "id": "QjBpv7eYLnGu"
      }
    },
    {
      "cell_type": "code",
      "source": [
        "serie = list(range(2010, 2021))"
      ],
      "metadata": {
        "id": "FZKiNDoTLjgb"
      },
      "execution_count": 118,
      "outputs": []
    },
    {
      "cell_type": "code",
      "source": [
        "serie"
      ],
      "metadata": {
        "colab": {
          "base_uri": "https://localhost:8080/"
        },
        "id": "zUNM0yyKL3pM",
        "outputId": "2daac269-e904-417a-f0b2-ee0bd41470b5"
      },
      "execution_count": 119,
      "outputs": [
        {
          "output_type": "execute_result",
          "data": {
            "text/plain": [
              "[2010, 2011, 2012, 2013, 2014, 2015, 2016, 2017, 2018, 2019, 2020]"
            ]
          },
          "metadata": {},
          "execution_count": 119
        }
      ]
    },
    {
      "cell_type": "markdown",
      "source": [
        "* Convertendo uma string em uma lista"
      ],
      "metadata": {
        "id": "9MFOCFiqMB2_"
      }
    },
    {
      "cell_type": "code",
      "source": [
        "frase = 'Eu amo aprender Python'\n",
        "frase.split(sep=' ')"
      ],
      "metadata": {
        "colab": {
          "base_uri": "https://localhost:8080/"
        },
        "id": "-V-fB5EKL9TW",
        "outputId": "77cc7b22-93bf-438c-d7df-6843cc2fbadd"
      },
      "execution_count": 120,
      "outputs": [
        {
          "output_type": "execute_result",
          "data": {
            "text/plain": [
              "['Eu', 'amo', 'aprender', 'Python']"
            ]
          },
          "metadata": {},
          "execution_count": 120
        }
      ]
    },
    {
      "cell_type": "code",
      "source": [
        "y = 'python%python%python%python'\n",
        "y.split(sep='%')"
      ],
      "metadata": {
        "colab": {
          "base_uri": "https://localhost:8080/"
        },
        "id": "juhjqdWFMRsU",
        "outputId": "d5cf20ee-6fef-4581-d091-7a530376b141"
      },
      "execution_count": 121,
      "outputs": [
        {
          "output_type": "execute_result",
          "data": {
            "text/plain": [
              "['python', 'python', 'python', 'python']"
            ]
          },
          "metadata": {},
          "execution_count": 121
        }
      ]
    },
    {
      "cell_type": "markdown",
      "source": [
        "* Definindo listas em termos de variáveis"
      ],
      "metadata": {
        "id": "imOiTEZbO7W5"
      }
    },
    {
      "cell_type": "code",
      "source": [
        "num1 = 10\n",
        "num2 = 20\n",
        "num3 = 30\n",
        "lista = [num1, num2, num3]"
      ],
      "metadata": {
        "id": "WBtveNAGMYFT"
      },
      "execution_count": 122,
      "outputs": []
    },
    {
      "cell_type": "code",
      "source": [
        "lista"
      ],
      "metadata": {
        "colab": {
          "base_uri": "https://localhost:8080/"
        },
        "id": "q1GNUbLBPCdI",
        "outputId": "862b12f1-4c84-4813-cf4c-5b265db72bc2"
      },
      "execution_count": 123,
      "outputs": [
        {
          "output_type": "execute_result",
          "data": {
            "text/plain": [
              "[10, 20, 30]"
            ]
          },
          "metadata": {},
          "execution_count": 123
        }
      ]
    },
    {
      "cell_type": "code",
      "source": [],
      "metadata": {
        "id": "Shp3RPm9PC2B"
      },
      "execution_count": null,
      "outputs": []
    },
    {
      "cell_type": "markdown",
      "source": [
        "* Desempacotamento de listas"
      ],
      "metadata": {
        "id": "h4i4HzvIPEo8"
      }
    },
    {
      "cell_type": "code",
      "source": [
        "valores = [350, 400, 900, 120]\n",
        "num1, num2, num3, num4 = valores"
      ],
      "metadata": {
        "id": "O0WD8ghxPGvT"
      },
      "execution_count": 124,
      "outputs": []
    },
    {
      "cell_type": "code",
      "source": [
        "print(num1, num2, num3, num4)"
      ],
      "metadata": {
        "colab": {
          "base_uri": "https://localhost:8080/"
        },
        "id": "w5x6vuegPLvQ",
        "outputId": "335e482c-6713-41fe-9cc5-c103ee7aacef"
      },
      "execution_count": 125,
      "outputs": [
        {
          "output_type": "stream",
          "name": "stdout",
          "text": [
            "350 400 900 120\n"
          ]
        }
      ]
    },
    {
      "cell_type": "code",
      "source": [],
      "metadata": {
        "id": "H3rPaH_NPPCe"
      },
      "execution_count": null,
      "outputs": []
    },
    {
      "cell_type": "markdown",
      "source": [
        "* Fatiamento de listas (slicing)\n",
        "\n",
        "Considere a lista hipótetica z. Se quisermos selecionar todos os valores entre os índices m-n (selecionar todos os valores começando no valor m até o valor de índice n-1)\n",
        "\n",
        "* z[m:n]"
      ],
      "metadata": {
        "id": "HBcxa_E-PRj8"
      }
    },
    {
      "cell_type": "code",
      "source": [
        "z = [4, 7, 9, 11, 3, 1]"
      ],
      "metadata": {
        "id": "5QrzMM4XPd9H"
      },
      "execution_count": 126,
      "outputs": []
    },
    {
      "cell_type": "code",
      "source": [
        "z[1:4]"
      ],
      "metadata": {
        "colab": {
          "base_uri": "https://localhost:8080/"
        },
        "id": "189qvjQbPtks",
        "outputId": "318d8454-d919-496f-aa20-4be8ba900712"
      },
      "execution_count": 127,
      "outputs": [
        {
          "output_type": "execute_result",
          "data": {
            "text/plain": [
              "[7, 9, 11]"
            ]
          },
          "metadata": {},
          "execution_count": 127
        }
      ]
    },
    {
      "cell_type": "code",
      "source": [
        "z[1:]"
      ],
      "metadata": {
        "colab": {
          "base_uri": "https://localhost:8080/"
        },
        "id": "lMof18nMPuyh",
        "outputId": "d0bfccfb-b505-4367-dabf-9e4cf23997f1"
      },
      "execution_count": 128,
      "outputs": [
        {
          "output_type": "execute_result",
          "data": {
            "text/plain": [
              "[7, 9, 11, 3, 1]"
            ]
          },
          "metadata": {},
          "execution_count": 128
        }
      ]
    },
    {
      "cell_type": "code",
      "source": [
        "z[:3]"
      ],
      "metadata": {
        "colab": {
          "base_uri": "https://localhost:8080/"
        },
        "id": "jovZA2SVPwhN",
        "outputId": "f2813175-cbf6-4cb7-d9ac-b82876e32b81"
      },
      "execution_count": 129,
      "outputs": [
        {
          "output_type": "execute_result",
          "data": {
            "text/plain": [
              "[4, 7, 9]"
            ]
          },
          "metadata": {},
          "execution_count": 129
        }
      ]
    },
    {
      "cell_type": "markdown",
      "source": [
        "* Verificando se um elemento está contido em uma lista"
      ],
      "metadata": {
        "id": "C5Hsf3vXP0WB"
      }
    },
    {
      "cell_type": "code",
      "source": [
        "k = ['F', 'M', 'J', 'K']    # declara a lista"
      ],
      "metadata": {
        "id": "_qwKAlKgPyiy"
      },
      "execution_count": 130,
      "outputs": []
    },
    {
      "cell_type": "code",
      "source": [
        "'F' in k    # verifica se o elemento 'F' está contido na lista"
      ],
      "metadata": {
        "colab": {
          "base_uri": "https://localhost:8080/"
        },
        "id": "B0wAkanyQCjf",
        "outputId": "e9a9db77-3a53-4472-a869-5af49c0d5e82"
      },
      "execution_count": 131,
      "outputs": [
        {
          "output_type": "execute_result",
          "data": {
            "text/plain": [
              "True"
            ]
          },
          "metadata": {},
          "execution_count": 131
        }
      ]
    },
    {
      "cell_type": "code",
      "source": [
        "'F' not in k    # verifica se o elemento 'F' não está contigo na lista"
      ],
      "metadata": {
        "colab": {
          "base_uri": "https://localhost:8080/"
        },
        "id": "GSYMGyQEQPfb",
        "outputId": "58018962-7a73-41ca-f96a-ac98c784a619"
      },
      "execution_count": 133,
      "outputs": [
        {
          "output_type": "execute_result",
          "data": {
            "text/plain": [
              "False"
            ]
          },
          "metadata": {},
          "execution_count": 133
        }
      ]
    },
    {
      "cell_type": "markdown",
      "source": [
        "* Métodos em listas\n",
        "\n",
        "Métodos em List | Descrição\n",
        ":---------------| :--------\n",
        "append()        | Adiciona um elemento ao final da lista.\n",
        "insert()        | Adiciona um elemento em um índice específicado.\n",
        "extend()        | Adiciona os elementos de um iterável no final da lista.\n",
        "pop()           | Remove e retorna um elemento de um índice especificado.\n",
        "remove()        | Remove o primeiro elemento com o valor específicado.\n",
        "clear()         | Remove todos os elementos de uma lista.\n",
        "copy()          | Retorna uma cópia da lista selecionada.\n",
        "sort()          | Ordena uma lista.\n",
        "reverse()       | Reverte a ordem dos elementos em uma lista.\n",
        "index()         | Retorna o primeiro índice do elemento específicado.\n",
        "count()         | Conta o número de vezes que o elemento aparece na lista.\n"
      ],
      "metadata": {
        "id": "Xz5t5cvhQiv2"
      }
    },
    {
      "cell_type": "markdown",
      "source": [
        "append - adiciona um elemento ao final da lista"
      ],
      "metadata": {
        "id": "FjJv5l-EScIX"
      }
    },
    {
      "cell_type": "code",
      "source": [
        "numeros = [45, 50, 55]     # declara a lista\n",
        "numeros.append(60)      # adiciona o número 60 ao final da lista"
      ],
      "metadata": {
        "id": "_PN8ERzpQXKR"
      },
      "execution_count": 134,
      "outputs": []
    },
    {
      "cell_type": "code",
      "source": [
        "numeros"
      ],
      "metadata": {
        "colab": {
          "base_uri": "https://localhost:8080/"
        },
        "id": "fT6nwT44SntK",
        "outputId": "5e3f6c1a-5c2c-457b-a08c-c01d6c2ca9c4"
      },
      "execution_count": 135,
      "outputs": [
        {
          "output_type": "execute_result",
          "data": {
            "text/plain": [
              "[45, 50, 55, 60]"
            ]
          },
          "metadata": {},
          "execution_count": 135
        }
      ]
    },
    {
      "cell_type": "code",
      "source": [
        "numeros.append(77)"
      ],
      "metadata": {
        "id": "HHurKkvOSo10"
      },
      "execution_count": 136,
      "outputs": []
    },
    {
      "cell_type": "code",
      "source": [
        "numeros"
      ],
      "metadata": {
        "colab": {
          "base_uri": "https://localhost:8080/"
        },
        "id": "AhVDEmBcSsj8",
        "outputId": "27842bfe-548a-4a37-f4bd-fba57c1661d5"
      },
      "execution_count": 137,
      "outputs": [
        {
          "output_type": "execute_result",
          "data": {
            "text/plain": [
              "[45, 50, 55, 60, 77]"
            ]
          },
          "metadata": {},
          "execution_count": 137
        }
      ]
    },
    {
      "cell_type": "markdown",
      "source": [
        "Se fizermos numeros.append(60,61) teremos:\n",
        "* TypeError: append() takes exactly one argument (2 given)\n",
        "\n",
        "Ou seja, o método append recebe apenas um argumento. Poderíamos então colocar os números dentro de uma lista ou tupla e passar como argumento da função append."
      ],
      "metadata": {
        "id": "2ETEAAblSvwj"
      }
    },
    {
      "cell_type": "code",
      "source": [
        "numeros.append([60, 65])"
      ],
      "metadata": {
        "id": "cbOzb3-bStLr"
      },
      "execution_count": 138,
      "outputs": []
    },
    {
      "cell_type": "code",
      "source": [
        "numeros"
      ],
      "metadata": {
        "colab": {
          "base_uri": "https://localhost:8080/"
        },
        "id": "oKYGr1wfTECI",
        "outputId": "40306c39-3c66-471a-dea9-1881972605fe"
      },
      "execution_count": 139,
      "outputs": [
        {
          "output_type": "execute_result",
          "data": {
            "text/plain": [
              "[45, 50, 55, 60, 77, [60, 65]]"
            ]
          },
          "metadata": {},
          "execution_count": 139
        }
      ]
    },
    {
      "cell_type": "markdown",
      "source": [
        "extend - adiciona os elementos de um iterável (por exemplo, lista, tupla...) ao final de uma lista."
      ],
      "metadata": {
        "id": "1QB9hEiTTJgI"
      }
    },
    {
      "cell_type": "code",
      "source": [
        "numeros = [0, 0, 0, 0] # declaramos uma lista\n",
        "numeros.extend([1, 2, 3]) # adicionamos apenas os números do iterável"
      ],
      "metadata": {
        "id": "lg3NzCkfTEh1"
      },
      "execution_count": 140,
      "outputs": []
    },
    {
      "cell_type": "code",
      "source": [
        "numeros"
      ],
      "metadata": {
        "colab": {
          "base_uri": "https://localhost:8080/"
        },
        "id": "AisL5ytaTYVZ",
        "outputId": "59cb70c1-196f-468d-a6ce-4f9dc228f5c2"
      },
      "execution_count": 141,
      "outputs": [
        {
          "output_type": "execute_result",
          "data": {
            "text/plain": [
              "[0, 0, 0, 0, 1, 2, 3]"
            ]
          },
          "metadata": {},
          "execution_count": 141
        }
      ]
    },
    {
      "cell_type": "code",
      "source": [
        "numeros.extend([60,61])"
      ],
      "metadata": {
        "id": "Ku2jac4kTYzc"
      },
      "execution_count": 142,
      "outputs": []
    },
    {
      "cell_type": "code",
      "source": [
        "numeros"
      ],
      "metadata": {
        "colab": {
          "base_uri": "https://localhost:8080/"
        },
        "id": "AqaIJ1UWTbpZ",
        "outputId": "2f8c4e75-eff9-4763-d12c-6d6e7bbfda29"
      },
      "execution_count": 143,
      "outputs": [
        {
          "output_type": "execute_result",
          "data": {
            "text/plain": [
              "[0, 0, 0, 0, 1, 2, 3, 60, 61]"
            ]
          },
          "metadata": {},
          "execution_count": 143
        }
      ]
    },
    {
      "cell_type": "code",
      "source": [
        "numeros.extend('abcdef') # adicionamos as letrs da string"
      ],
      "metadata": {
        "id": "Y7_hoe72Tcdc"
      },
      "execution_count": 144,
      "outputs": []
    },
    {
      "cell_type": "code",
      "source": [
        "numeros"
      ],
      "metadata": {
        "colab": {
          "base_uri": "https://localhost:8080/"
        },
        "id": "aauowVwpTi4u",
        "outputId": "fbc25d88-6b24-475c-be17-443e193fb7b7"
      },
      "execution_count": 145,
      "outputs": [
        {
          "output_type": "execute_result",
          "data": {
            "text/plain": [
              "[0, 0, 0, 0, 1, 2, 3, 60, 61, 'a', 'b', 'c', 'd', 'e', 'f']"
            ]
          },
          "metadata": {},
          "execution_count": 145
        }
      ]
    },
    {
      "cell_type": "markdown",
      "source": [
        "insert - adiciona um elemento em uma posição específicada. Sintaxe:\n",
        "* lista.insert(index, object) - primeiro passamos o índice e depois o objeto."
      ],
      "metadata": {
        "id": "gyK_vgfrTkui"
      }
    },
    {
      "cell_type": "code",
      "source": [
        "numeros = [4, 10, 11, 12, 7, 9, 15] # declara a lista"
      ],
      "metadata": {
        "id": "I2WJCUC5TjcL"
      },
      "execution_count": 150,
      "outputs": []
    },
    {
      "cell_type": "code",
      "source": [
        "numeros[1]"
      ],
      "metadata": {
        "colab": {
          "base_uri": "https://localhost:8080/"
        },
        "id": "e7Kc-pPGUCnz",
        "outputId": "f6b36b64-30f6-4182-d79f-f18dbcc85d11"
      },
      "execution_count": 151,
      "outputs": [
        {
          "output_type": "execute_result",
          "data": {
            "text/plain": [
              "10"
            ]
          },
          "metadata": {},
          "execution_count": 151
        }
      ]
    },
    {
      "cell_type": "code",
      "source": [
        "numeros.insert(1, 0) # insere o número 0 no índice 1"
      ],
      "metadata": {
        "id": "0rduYVwjTyWK"
      },
      "execution_count": 152,
      "outputs": []
    },
    {
      "cell_type": "code",
      "source": [
        "numeros"
      ],
      "metadata": {
        "colab": {
          "base_uri": "https://localhost:8080/"
        },
        "id": "n4tpuj3bT2SK",
        "outputId": "f08831c5-399d-4faf-93a3-4993dad47526"
      },
      "execution_count": 153,
      "outputs": [
        {
          "output_type": "execute_result",
          "data": {
            "text/plain": [
              "[4, 0, 10, 11, 12, 7, 9, 15]"
            ]
          },
          "metadata": {},
          "execution_count": 153
        }
      ]
    },
    {
      "cell_type": "markdown",
      "source": [
        "remove - remove o primeiro item com o valor específicado.\n",
        "\n",
        "ValueErro: se inserirmos um valor que não esteja na lista teremos esse tipo de erro."
      ],
      "metadata": {
        "id": "daU1P6PIT4WF"
      }
    },
    {
      "cell_type": "code",
      "source": [
        "numeros = [10, 11, 12, 13]\n",
        "numeros.remove(13) # removemos o número 13 da lista"
      ],
      "metadata": {
        "id": "AqWz-KvRT23z"
      },
      "execution_count": 154,
      "outputs": []
    },
    {
      "cell_type": "code",
      "source": [
        "numeros"
      ],
      "metadata": {
        "colab": {
          "base_uri": "https://localhost:8080/"
        },
        "id": "0PhU_hgbUdKL",
        "outputId": "3aa750b8-25a5-42b4-cc01-a9b9cde7e321"
      },
      "execution_count": 155,
      "outputs": [
        {
          "output_type": "execute_result",
          "data": {
            "text/plain": [
              "[10, 11, 12]"
            ]
          },
          "metadata": {},
          "execution_count": 155
        }
      ]
    },
    {
      "cell_type": "markdown",
      "source": [
        "pop - remove e retorna o elemento com o índice específicado."
      ],
      "metadata": {
        "id": "OPqfvIYHUfFB"
      }
    },
    {
      "cell_type": "code",
      "source": [
        "numeros = ['k', 'm', 'z', 'a', 'b', 'o']"
      ],
      "metadata": {
        "id": "dbfVbgBZUdu-"
      },
      "execution_count": 156,
      "outputs": []
    },
    {
      "cell_type": "code",
      "source": [
        "numeros.pop() # se não inserirmos o índice, o último elemento será removido"
      ],
      "metadata": {
        "colab": {
          "base_uri": "https://localhost:8080/",
          "height": 36
        },
        "id": "-to4dEafUnj2",
        "outputId": "66b91bff-70e5-4b23-9326-44439462ff05"
      },
      "execution_count": 157,
      "outputs": [
        {
          "output_type": "execute_result",
          "data": {
            "text/plain": [
              "'o'"
            ],
            "application/vnd.google.colaboratory.intrinsic+json": {
              "type": "string"
            }
          },
          "metadata": {},
          "execution_count": 157
        }
      ]
    },
    {
      "cell_type": "code",
      "source": [
        "numeros"
      ],
      "metadata": {
        "colab": {
          "base_uri": "https://localhost:8080/"
        },
        "id": "oi_V4j9VUsZL",
        "outputId": "19dfe3c6-8503-4d3f-cd26-740fe842beb3"
      },
      "execution_count": 158,
      "outputs": [
        {
          "output_type": "execute_result",
          "data": {
            "text/plain": [
              "['k', 'm', 'z', 'a', 'b']"
            ]
          },
          "metadata": {},
          "execution_count": 158
        }
      ]
    },
    {
      "cell_type": "code",
      "source": [
        "numeros.pop(1) # remove e retorna o elemento com índice 1"
      ],
      "metadata": {
        "colab": {
          "base_uri": "https://localhost:8080/",
          "height": 36
        },
        "id": "kZDjn6_xUtEh",
        "outputId": "cf4b32b8-5807-4e9f-9ac4-6d468f4e1708"
      },
      "execution_count": 159,
      "outputs": [
        {
          "output_type": "execute_result",
          "data": {
            "text/plain": [
              "'m'"
            ],
            "application/vnd.google.colaboratory.intrinsic+json": {
              "type": "string"
            }
          },
          "metadata": {},
          "execution_count": 159
        }
      ]
    },
    {
      "cell_type": "code",
      "source": [
        "numeros"
      ],
      "metadata": {
        "colab": {
          "base_uri": "https://localhost:8080/"
        },
        "id": "JIiz-pf8UyPt",
        "outputId": "f34f255e-1aec-498f-e701-eef5f9e0a7c3"
      },
      "execution_count": 160,
      "outputs": [
        {
          "output_type": "execute_result",
          "data": {
            "text/plain": [
              "['k', 'z', 'a', 'b']"
            ]
          },
          "metadata": {},
          "execution_count": 160
        }
      ]
    },
    {
      "cell_type": "markdown",
      "source": [
        "Também podemos deletar elementos de uma lista com a instrução del:"
      ],
      "metadata": {
        "id": "hVMx6nAFU3n0"
      }
    },
    {
      "cell_type": "code",
      "source": [
        "letras = ['k', 'i', 'j', 'm']\n",
        "del letras[0] # deletamos o item de índice 0"
      ],
      "metadata": {
        "id": "EknVjYgVUz8-"
      },
      "execution_count": 164,
      "outputs": []
    },
    {
      "cell_type": "code",
      "source": [
        "letras"
      ],
      "metadata": {
        "colab": {
          "base_uri": "https://localhost:8080/"
        },
        "id": "0ydKeYxTU_IA",
        "outputId": "3db819a8-8e50-401e-b749-4731fbc75264"
      },
      "execution_count": 165,
      "outputs": [
        {
          "output_type": "execute_result",
          "data": {
            "text/plain": [
              "['i', 'j', 'm']"
            ]
          },
          "metadata": {},
          "execution_count": 165
        }
      ]
    },
    {
      "cell_type": "markdown",
      "source": [
        "Podemos deletar completamente a lista:"
      ],
      "metadata": {
        "id": "bPRHix2pVGc_"
      }
    },
    {
      "cell_type": "code",
      "source": [
        "del letras"
      ],
      "metadata": {
        "id": "8jrn3puoU_84"
      },
      "execution_count": 166,
      "outputs": []
    },
    {
      "cell_type": "markdown",
      "source": [
        "Já não temos mais a lista *letras*. Se tentarmos acessá-la novamente teremos: NameError:"
      ],
      "metadata": {
        "id": "nPVosfPxVMLJ"
      }
    },
    {
      "cell_type": "markdown",
      "source": [
        "clear - remove todos os elementos da lista."
      ],
      "metadata": {
        "id": "yP5s_7pLVWWk"
      }
    },
    {
      "cell_type": "code",
      "source": [
        "letras = ['abc', 'ab', 'a']\n",
        "letras.clear()"
      ],
      "metadata": {
        "id": "5o3D8i1FVKjp"
      },
      "execution_count": 167,
      "outputs": []
    },
    {
      "cell_type": "code",
      "source": [
        "letras"
      ],
      "metadata": {
        "colab": {
          "base_uri": "https://localhost:8080/"
        },
        "id": "PlXSmjH0Vdrk",
        "outputId": "a89dc143-b12b-4eb5-8acb-8de7fac049da"
      },
      "execution_count": 168,
      "outputs": [
        {
          "output_type": "execute_result",
          "data": {
            "text/plain": [
              "[]"
            ]
          },
          "metadata": {},
          "execution_count": 168
        }
      ]
    },
    {
      "cell_type": "markdown",
      "source": [
        "count - retorna o número de ocorrências de um valor específicado."
      ],
      "metadata": {
        "id": "odMpDWTMVfgW"
      }
    },
    {
      "cell_type": "code",
      "source": [
        "numeros = [1, 1, 1, 0, 0, 0, 5, 3, 1, 2]"
      ],
      "metadata": {
        "id": "TVZ6UsRUVeIm"
      },
      "execution_count": 169,
      "outputs": []
    },
    {
      "cell_type": "code",
      "source": [
        "numeros.count(1) # conta o número de ocorrências do número 1"
      ],
      "metadata": {
        "colab": {
          "base_uri": "https://localhost:8080/"
        },
        "id": "kMjgdfTmVo76",
        "outputId": "b91d7497-c1b1-466f-83fe-4cf43a3e72c8"
      },
      "execution_count": 170,
      "outputs": [
        {
          "output_type": "execute_result",
          "data": {
            "text/plain": [
              "4"
            ]
          },
          "metadata": {},
          "execution_count": 170
        }
      ]
    },
    {
      "cell_type": "markdown",
      "source": [
        "reverse - inverte a ordem da lista."
      ],
      "metadata": {
        "id": "QWsfkJ9nVuDs"
      }
    },
    {
      "cell_type": "code",
      "source": [
        "numeros = [1, 2, 3, 4, 5]\n",
        "numeros.reverse() # inverte a ordem da lista"
      ],
      "metadata": {
        "id": "wIFVzC5NVshz"
      },
      "execution_count": 172,
      "outputs": []
    },
    {
      "cell_type": "code",
      "source": [
        "numeros"
      ],
      "metadata": {
        "colab": {
          "base_uri": "https://localhost:8080/"
        },
        "id": "f49dsBFWVybo",
        "outputId": "34e655f7-924f-4a9f-d194-fc50aaf7baed"
      },
      "execution_count": 173,
      "outputs": [
        {
          "output_type": "execute_result",
          "data": {
            "text/plain": [
              "[5, 4, 3, 2, 1]"
            ]
          },
          "metadata": {},
          "execution_count": 173
        }
      ]
    },
    {
      "cell_type": "markdown",
      "source": [
        "sort - ordena a lista"
      ],
      "metadata": {
        "id": "ExG2IUDiV3m2"
      }
    },
    {
      "cell_type": "code",
      "source": [
        "numeros = [-10, 100, -1, 60, 76, 33, -30, 150] #declara uma lista não ordenada"
      ],
      "metadata": {
        "id": "niR3x_IwV2cb"
      },
      "execution_count": 174,
      "outputs": []
    },
    {
      "cell_type": "code",
      "source": [
        "numeros"
      ],
      "metadata": {
        "colab": {
          "base_uri": "https://localhost:8080/"
        },
        "id": "bloLEd6pWBhd",
        "outputId": "d7bd201a-7eab-4ee0-f83f-eefc356e84e2"
      },
      "execution_count": 175,
      "outputs": [
        {
          "output_type": "execute_result",
          "data": {
            "text/plain": [
              "[-10, 100, -1, 60, 76, 33, -30, 150]"
            ]
          },
          "metadata": {},
          "execution_count": 175
        }
      ]
    },
    {
      "cell_type": "code",
      "source": [
        "numeros.sort() # ordena a lista"
      ],
      "metadata": {
        "id": "97SPpbD1WCBA"
      },
      "execution_count": 176,
      "outputs": []
    },
    {
      "cell_type": "code",
      "source": [
        "numeros"
      ],
      "metadata": {
        "colab": {
          "base_uri": "https://localhost:8080/"
        },
        "id": "rkXeyj32WD8S",
        "outputId": "87492262-fff2-45bd-c86b-1beaca40cdcf"
      },
      "execution_count": 177,
      "outputs": [
        {
          "output_type": "execute_result",
          "data": {
            "text/plain": [
              "[-30, -10, -1, 33, 60, 76, 100, 150]"
            ]
          },
          "metadata": {},
          "execution_count": 177
        }
      ]
    },
    {
      "cell_type": "markdown",
      "source": [
        "index - retorna o índice do primeiro elemento com o valor especificado. Sintaxe:\n",
        "\n",
        "* index(value, start=0, stop)"
      ],
      "metadata": {
        "id": "oOx52_80WFw8"
      }
    },
    {
      "cell_type": "code",
      "source": [
        "lista = [5, 6, 7, 8]"
      ],
      "metadata": {
        "id": "vIVKOYaMWEd0"
      },
      "execution_count": 178,
      "outputs": []
    },
    {
      "cell_type": "code",
      "source": [
        "lista.index(5) # retorna o índice da primeira ocorrência do número 5"
      ],
      "metadata": {
        "colab": {
          "base_uri": "https://localhost:8080/"
        },
        "id": "OAmLChUHWY8C",
        "outputId": "252b78d1-bd4d-4b72-ed6f-357313fa30be"
      },
      "execution_count": 179,
      "outputs": [
        {
          "output_type": "execute_result",
          "data": {
            "text/plain": [
              "0"
            ]
          },
          "metadata": {},
          "execution_count": 179
        }
      ]
    },
    {
      "cell_type": "code",
      "source": [
        "numeros = [1, 2, 3, 3, 3, 3, 3, 7, 7, 8, 9 , 10 , 10, 11, 12, 11]\n",
        "numeros.index(3) #retorna o índice da primeira ocorrência do número 3"
      ],
      "metadata": {
        "colab": {
          "base_uri": "https://localhost:8080/"
        },
        "id": "yw02AcXhWcyP",
        "outputId": "83eaad51-33a8-4b31-85e0-8800847942b4"
      },
      "execution_count": 180,
      "outputs": [
        {
          "output_type": "execute_result",
          "data": {
            "text/plain": [
              "2"
            ]
          },
          "metadata": {},
          "execution_count": 180
        }
      ]
    },
    {
      "cell_type": "code",
      "source": [
        "numeros.index(3, 5) #retorna o índice do valor 3, começando a contar a partir do índice 5 da linha"
      ],
      "metadata": {
        "colab": {
          "base_uri": "https://localhost:8080/"
        },
        "id": "C-rKz3FcWn76",
        "outputId": "6832429f-164f-4203-9140-86ee27c0c286"
      },
      "execution_count": 181,
      "outputs": [
        {
          "output_type": "execute_result",
          "data": {
            "text/plain": [
              "5"
            ]
          },
          "metadata": {},
          "execution_count": 181
        }
      ]
    },
    {
      "cell_type": "markdown",
      "source": [
        "# 7. Tuplas\n",
        "\n",
        "* Tuplas são coleções ordenadas e imutáveis. Existem dois métodos para tuplas: count e index. Podemos criar tuplas com ()."
      ],
      "metadata": {
        "id": "4BGqPfTLXDZU"
      }
    },
    {
      "cell_type": "code",
      "source": [
        "tupla = (1, 2, 3, 4, 5)\n",
        "type(tupla) # checa o tipo do objeto criado"
      ],
      "metadata": {
        "colab": {
          "base_uri": "https://localhost:8080/"
        },
        "id": "WUe6n9lmWzja",
        "outputId": "33ece8cf-9a54-4946-dcbd-15314a4bb17c"
      },
      "execution_count": 182,
      "outputs": [
        {
          "output_type": "execute_result",
          "data": {
            "text/plain": [
              "tuple"
            ]
          },
          "metadata": {},
          "execution_count": 182
        }
      ]
    },
    {
      "cell_type": "code",
      "source": [
        "tupla1 = 1, 2, 3, 4, 5\n",
        "type(tupla1)"
      ],
      "metadata": {
        "colab": {
          "base_uri": "https://localhost:8080/"
        },
        "id": "cC8JXitdXVrl",
        "outputId": "ab859ab3-d0d1-4d12-fb6b-2a631ed0f4ad"
      },
      "execution_count": 184,
      "outputs": [
        {
          "output_type": "execute_result",
          "data": {
            "text/plain": [
              "tuple"
            ]
          },
          "metadata": {},
          "execution_count": 184
        }
      ]
    },
    {
      "cell_type": "code",
      "source": [
        "tupla = (10)\n",
        "type(tupla)"
      ],
      "metadata": {
        "colab": {
          "base_uri": "https://localhost:8080/"
        },
        "id": "yMzdvUI9X54l",
        "outputId": "42dc6304-d916-4d7a-8808-eff543681800"
      },
      "execution_count": 185,
      "outputs": [
        {
          "output_type": "execute_result",
          "data": {
            "text/plain": [
              "int"
            ]
          },
          "metadata": {},
          "execution_count": 185
        }
      ]
    },
    {
      "cell_type": "code",
      "source": [
        "tupla = (10,)\n",
        "type(tupla)"
      ],
      "metadata": {
        "colab": {
          "base_uri": "https://localhost:8080/"
        },
        "id": "ofKaUnWPX-Nu",
        "outputId": "2afd2e4e-f641-458b-b779-413dd2bf8f9e"
      },
      "execution_count": 186,
      "outputs": [
        {
          "output_type": "execute_result",
          "data": {
            "text/plain": [
              "tuple"
            ]
          },
          "metadata": {},
          "execution_count": 186
        }
      ]
    },
    {
      "cell_type": "code",
      "source": [
        "tupla = 10,\n",
        "type(tupla)"
      ],
      "metadata": {
        "colab": {
          "base_uri": "https://localhost:8080/"
        },
        "id": "SOl0QqiuYDlx",
        "outputId": "44339d27-c7e5-4101-e302-8047e854dd52"
      },
      "execution_count": 187,
      "outputs": [
        {
          "output_type": "execute_result",
          "data": {
            "text/plain": [
              "tuple"
            ]
          },
          "metadata": {},
          "execution_count": 187
        }
      ]
    },
    {
      "cell_type": "markdown",
      "source": [
        "* Métodos em tuplas\n",
        "\n",
        "Método | Descrição\n",
        ":----- | :-----\n",
        "index() | Retorna o índice do elemento especificado\n",
        "count() | Conta o número de vezes que o elemento aparece na tupla."
      ],
      "metadata": {
        "id": "j7LpqQLZXb-h"
      }
    },
    {
      "cell_type": "code",
      "source": [
        "tupla = ('a', 'b', 'c', 'd')"
      ],
      "metadata": {
        "id": "2LuCnQO1XZBV"
      },
      "execution_count": 188,
      "outputs": []
    },
    {
      "cell_type": "code",
      "source": [
        "print(f\"Indice de 'a': {tupla.index('a')}\")\n",
        "print(f\"Indice de 'd': {tupla.index('d')}\")"
      ],
      "metadata": {
        "colab": {
          "base_uri": "https://localhost:8080/"
        },
        "id": "t6KYexYhYWeg",
        "outputId": "0877daac-950f-4cee-93b6-e430b5c6caeb"
      },
      "execution_count": 190,
      "outputs": [
        {
          "output_type": "stream",
          "name": "stdout",
          "text": [
            "Indice de 'a': 0\n",
            "Indice de 'd': 3\n"
          ]
        }
      ]
    },
    {
      "cell_type": "code",
      "source": [
        "tupla = ('a', 'z', 'z', 'z', 'w')\n",
        "print(tupla.count('z'))"
      ],
      "metadata": {
        "colab": {
          "base_uri": "https://localhost:8080/"
        },
        "id": "acBTJmnUYVr5",
        "outputId": "bb16a275-710b-4f13-f2a7-eec42e88e398"
      },
      "execution_count": 191,
      "outputs": [
        {
          "output_type": "stream",
          "name": "stdout",
          "text": [
            "3\n"
          ]
        }
      ]
    },
    {
      "cell_type": "markdown",
      "source": [
        "# 8. Dicionários\n",
        "\n",
        "* Tipo de dado chave-valor, ou seja, para cada chave associa um valor correspondente\n",
        "* Usamos dicionários para criar DataFrames na biblioteca Pandas (DataScience)"
      ],
      "metadata": {
        "id": "LRKnXTENYz-d"
      }
    },
    {
      "cell_type": "code",
      "source": [
        "dict1 = {\n",
        "    'chave1': 'valor1',\n",
        "    'chave2': 'valor2'\n",
        "}"
      ],
      "metadata": {
        "id": "mUOg4f5QZBaI"
      },
      "execution_count": 192,
      "outputs": []
    },
    {
      "cell_type": "code",
      "source": [
        "dict1"
      ],
      "metadata": {
        "colab": {
          "base_uri": "https://localhost:8080/"
        },
        "id": "5KTmnR5fcIPy",
        "outputId": "3bafd6cf-8298-4a58-c2b1-597437c6c9cd"
      },
      "execution_count": 193,
      "outputs": [
        {
          "output_type": "execute_result",
          "data": {
            "text/plain": [
              "{'chave1': 'valor1', 'chave2': 'valor2'}"
            ]
          },
          "metadata": {},
          "execution_count": 193
        }
      ]
    },
    {
      "cell_type": "code",
      "source": [
        "type(dict1)"
      ],
      "metadata": {
        "colab": {
          "base_uri": "https://localhost:8080/"
        },
        "id": "1fY1g9rscI4o",
        "outputId": "d0b4d494-3acd-4e32-a293-e3436f69b2a9"
      },
      "execution_count": 194,
      "outputs": [
        {
          "output_type": "execute_result",
          "data": {
            "text/plain": [
              "dict"
            ]
          },
          "metadata": {},
          "execution_count": 194
        }
      ]
    },
    {
      "cell_type": "code",
      "source": [
        "dados = {\n",
        "    'nome':'PS4',\n",
        "    'valor':2500,\n",
        "    'estoque':50,\n",
        "    'categoria':'vídeo game'\n",
        "}"
      ],
      "metadata": {
        "id": "C1yxJ0J1cKQb"
      },
      "execution_count": 195,
      "outputs": []
    },
    {
      "cell_type": "code",
      "source": [
        "dados"
      ],
      "metadata": {
        "colab": {
          "base_uri": "https://localhost:8080/"
        },
        "id": "oWnbEY-LcXTr",
        "outputId": "0653cd30-e1c9-4dca-d817-57516699f226"
      },
      "execution_count": 196,
      "outputs": [
        {
          "output_type": "execute_result",
          "data": {
            "text/plain": [
              "{'nome': 'PS4', 'valor': 2500, 'estoque': 50, 'categoria': 'vídeo game'}"
            ]
          },
          "metadata": {},
          "execution_count": 196
        }
      ]
    },
    {
      "cell_type": "markdown",
      "source": [
        "* Acessando elementos"
      ],
      "metadata": {
        "id": "g5JYuUz1cZgA"
      }
    },
    {
      "cell_type": "code",
      "source": [
        "dados['nome']"
      ],
      "metadata": {
        "colab": {
          "base_uri": "https://localhost:8080/",
          "height": 36
        },
        "id": "fHBAy9TJcYAV",
        "outputId": "9b350e0c-f283-4b5e-ebcd-d4b8724fd7cb"
      },
      "execution_count": 197,
      "outputs": [
        {
          "output_type": "execute_result",
          "data": {
            "text/plain": [
              "'PS4'"
            ],
            "application/vnd.google.colaboratory.intrinsic+json": {
              "type": "string"
            }
          },
          "metadata": {},
          "execution_count": 197
        }
      ]
    },
    {
      "cell_type": "code",
      "source": [
        "dados['valor']"
      ],
      "metadata": {
        "colab": {
          "base_uri": "https://localhost:8080/"
        },
        "id": "z_HW9ojyciWv",
        "outputId": "a8e95c70-e441-4186-f557-6590aa9c0657"
      },
      "execution_count": 198,
      "outputs": [
        {
          "output_type": "execute_result",
          "data": {
            "text/plain": [
              "2500"
            ]
          },
          "metadata": {},
          "execution_count": 198
        }
      ]
    },
    {
      "cell_type": "code",
      "source": [
        "dict2 = {\n",
        "    'chave1':[1, 2, 5],\n",
        "    'chave2':[2, 4, 6],\n",
        "    'chave3':(7, 9, 11),\n",
        "    'chave4':(13, 15, 17)\n",
        "}"
      ],
      "metadata": {
        "id": "BZXwn-quck7W"
      },
      "execution_count": 199,
      "outputs": []
    },
    {
      "cell_type": "code",
      "source": [],
      "metadata": {
        "id": "baU7jRxsc6J_"
      },
      "execution_count": 199,
      "outputs": []
    },
    {
      "cell_type": "code",
      "source": [
        "dict2['chave2']"
      ],
      "metadata": {
        "colab": {
          "base_uri": "https://localhost:8080/"
        },
        "id": "kmf58819c4Gs",
        "outputId": "d91c1d9f-3672-42e1-9e78-33f4c3dfbc4e"
      },
      "execution_count": 200,
      "outputs": [
        {
          "output_type": "execute_result",
          "data": {
            "text/plain": [
              "[2, 4, 6]"
            ]
          },
          "metadata": {},
          "execution_count": 200
        }
      ]
    },
    {
      "cell_type": "markdown",
      "source": [
        "* Mudando valores"
      ],
      "metadata": {
        "id": "UJA1QajTczwa"
      }
    },
    {
      "cell_type": "code",
      "source": [
        "dados = {'nome':'PS4', 'valor':2500, 'estoque':50, 'categoria':'vídeo game'}"
      ],
      "metadata": {
        "id": "0BjjpwHCcyyZ"
      },
      "execution_count": 201,
      "outputs": []
    },
    {
      "cell_type": "code",
      "source": [
        "dados['valor'] = 3000"
      ],
      "metadata": {
        "id": "zTrJRUR0dJpb"
      },
      "execution_count": 202,
      "outputs": []
    },
    {
      "cell_type": "code",
      "source": [
        "dados"
      ],
      "metadata": {
        "colab": {
          "base_uri": "https://localhost:8080/"
        },
        "id": "Su0zFy4tdMOP",
        "outputId": "abf0e43c-bf26-4a4b-88d9-867bd773b762"
      },
      "execution_count": 203,
      "outputs": [
        {
          "output_type": "execute_result",
          "data": {
            "text/plain": [
              "{'nome': 'PS4', 'valor': 3000, 'estoque': 50, 'categoria': 'vídeo game'}"
            ]
          },
          "metadata": {},
          "execution_count": 203
        }
      ]
    },
    {
      "cell_type": "markdown",
      "source": [
        "# 9. Estruturas condicionais"
      ],
      "metadata": {
        "id": "agwtX00vdOsj"
      }
    },
    {
      "cell_type": "code",
      "source": [
        "if <condicao>:\n",
        "  <bloco_de_codigo1>\n",
        "else:\n",
        "  <bloco_de_codigo>"
      ],
      "metadata": {
        "id": "TgSGoUUYdn-z"
      },
      "execution_count": null,
      "outputs": []
    },
    {
      "cell_type": "code",
      "source": [
        "if True:\n",
        "  print('Seja bem-vindo')"
      ],
      "metadata": {
        "colab": {
          "base_uri": "https://localhost:8080/"
        },
        "id": "CH2Z83O_dss2",
        "outputId": "828e4857-7379-41cd-9703-dda90770c9f9"
      },
      "execution_count": 205,
      "outputs": [
        {
          "output_type": "stream",
          "name": "stdout",
          "text": [
            "Seja bem-vindo\n"
          ]
        }
      ]
    },
    {
      "cell_type": "code",
      "source": [
        "num = 50\n",
        "if num>=25:\n",
        "  print('O número é maior que 25.')"
      ],
      "metadata": {
        "colab": {
          "base_uri": "https://localhost:8080/"
        },
        "id": "RgXBgHAheJ5X",
        "outputId": "7f6a4553-85c1-49ee-911d-327bf76b33bc"
      },
      "execution_count": 207,
      "outputs": [
        {
          "output_type": "stream",
          "name": "stdout",
          "text": [
            "O número é maior que 25.\n"
          ]
        }
      ]
    },
    {
      "cell_type": "code",
      "source": [
        "if False:\n",
        "  print('Seja bem-vindo')"
      ],
      "metadata": {
        "id": "xP1v-HwCdv8o"
      },
      "execution_count": 206,
      "outputs": []
    },
    {
      "cell_type": "code",
      "source": [
        "nome = input('Digite seu nome: ')\n",
        "idade = int(input('Digite sua idade: '))\n",
        "if idade>=18:\n",
        "  print(f'Olá, {nome}!')\n",
        "  print('Seja bem-vindo ao nosso sistema.')\n",
        "else:\n",
        "  print(f'Olá, {nome}!')\n",
        "  print('Acesso negado.')"
      ],
      "metadata": {
        "colab": {
          "base_uri": "https://localhost:8080/"
        },
        "id": "NshLw-URdyPt",
        "outputId": "8d876a95-af0f-4a65-8711-ef30954563b6"
      },
      "execution_count": 209,
      "outputs": [
        {
          "output_type": "stream",
          "name": "stdout",
          "text": [
            "Digite seu nome: Adnan\n",
            "Digite sua idade: 37\n",
            "Olá, Adnan!\n",
            "Seja bem-vindo ao nosso sistema.\n"
          ]
        }
      ]
    },
    {
      "cell_type": "code",
      "source": [
        "nome = input('Digite seu nome: ')\n",
        "idade = int(input('Digite sua idade: '))\n",
        "if idade>=18:\n",
        "  print(f'Olá, {nome}!')\n",
        "  print('Seja bem-vindo ao nosso sistema.')\n",
        "  if len(nome)>5:\n",
        "    print('Seu nome é muito longo.')\n",
        "  else:\n",
        "    print('Seu nome é muito curto.')\n",
        "else:\n",
        "  print(f'Olá, {nome}!')\n",
        "  print('Acesso negado.')"
      ],
      "metadata": {
        "colab": {
          "base_uri": "https://localhost:8080/"
        },
        "id": "L95TpNrVd5Kk",
        "outputId": "b0b6230f-5653-49ca-a5d2-cc5e08d5e482"
      },
      "execution_count": 210,
      "outputs": [
        {
          "output_type": "stream",
          "name": "stdout",
          "text": [
            "Digite seu nome: Ana\n",
            "Digite sua idade: 21\n",
            "Olá, Ana!\n",
            "Seja bem-vindo ao nosso sistema.\n",
            "Seu nome é muito curto.\n"
          ]
        }
      ]
    },
    {
      "cell_type": "code",
      "source": [
        "if <condicao>:\n",
        "  <bloco_de_codigo1>\n",
        "elif <condicao2>\n",
        "  <bloco_de_codigo2>\n",
        "elif <condicao3>\n",
        "  <bloco_de_codigo3>\n",
        "else:\n",
        "  <bloco_de_codigo4>"
      ],
      "metadata": {
        "id": "FNvwLIOnd44T"
      },
      "execution_count": null,
      "outputs": []
    },
    {
      "cell_type": "code",
      "source": [
        "num = 6\n",
        "if num==1:\n",
        "  print('Cadastrar produto')\n",
        "elif num==2:\n",
        "  print('Remover produto')\n",
        "elif num==3:\n",
        "  print('Listar produtos')\n",
        "else:\n",
        "  print('Opção inválida')"
      ],
      "metadata": {
        "colab": {
          "base_uri": "https://localhost:8080/"
        },
        "id": "3bjTWjo4jWW-",
        "outputId": "b8365830-2f05-4101-d485-051c403797f6"
      },
      "execution_count": 213,
      "outputs": [
        {
          "output_type": "stream",
          "name": "stdout",
          "text": [
            "Opção inválida\n"
          ]
        }
      ]
    },
    {
      "cell_type": "code",
      "source": [
        "lista = []"
      ],
      "metadata": {
        "id": "k5vAS75KmjjV"
      },
      "execution_count": 214,
      "outputs": []
    },
    {
      "cell_type": "code",
      "source": [
        "num = 1\n",
        "if num==1:\n",
        "  print('Cadastrar produto')\n",
        "  nome = input('Digite o nome do produto: ')\n",
        "  quantidade = int(input('Digite a quantidade: '))\n",
        "  preco = float(input('Digite o preço do produto: '))\n",
        "  if quantidade>0:\n",
        "    print('Produto cadastrado com sucesso.')\n",
        "    lista.append([nome, quantidade, preco])\n",
        "  else:\n",
        "    print('Quantidade inválida')\n",
        "elif num==2:\n",
        "  print('Remover produto')\n",
        "elif num==3:\n",
        "  print('Listar produtos')\n",
        "else:\n",
        "  print('Opção inválida')"
      ],
      "metadata": {
        "colab": {
          "base_uri": "https://localhost:8080/"
        },
        "id": "gKuMiemJly-U",
        "outputId": "e6dda929-c0f4-4d95-fb40-c4c1afa81858"
      },
      "execution_count": 217,
      "outputs": [
        {
          "output_type": "stream",
          "name": "stdout",
          "text": [
            "Cadastrar produto\n",
            "Digite o nome do produto: Feijão\n",
            "Digite a quantidade: 10\n",
            "Digite o preço do produto: 9.99\n",
            "Produto cadastrado com sucesso.\n"
          ]
        }
      ]
    },
    {
      "cell_type": "code",
      "source": [
        "lista"
      ],
      "metadata": {
        "colab": {
          "base_uri": "https://localhost:8080/"
        },
        "id": "pw922FXtmvDd",
        "outputId": "92a0d739-8a5d-4b30-ba82-ea1362c617d7"
      },
      "execution_count": 218,
      "outputs": [
        {
          "output_type": "execute_result",
          "data": {
            "text/plain": [
              "[['Arroz', 10, 6.5], ['Feijão', 10, 9.99]]"
            ]
          },
          "metadata": {},
          "execution_count": 218
        }
      ]
    },
    {
      "cell_type": "code",
      "source": [],
      "metadata": {
        "id": "x3Fo_etlm1Ms"
      },
      "execution_count": null,
      "outputs": []
    }
  ]
}